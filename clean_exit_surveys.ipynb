{
 "cells": [
  {
   "cell_type": "markdown",
   "metadata": {},
   "source": [
    "## Cleaning Data\n",
    "\n",
    "In this project we'll clean some data from two surveys: with exit surveys from employees of the Department of Education, Training and Employment (DETE) and the Technical and Further Education (TAFE) institute in Queensland, Australia. \n",
    "\n",
    "We want to answer the following:\n",
    "\n",
    "* Are employees who only worked for the institutes for a short period of time resigning due to some kind of dissatisfaction? What about employees who have been there longer?\n",
    "* Are younger employees resigning due to some kind of dissatisfaction? What about older employees?\n",
    "\n",
    "This project is basic a cleaning job. The data is very messy and we'll clean so that HR can better understand of the data."
   ]
  },
  {
   "cell_type": "code",
   "execution_count": 1,
   "metadata": {},
   "outputs": [],
   "source": [
    "import pandas as pd\n",
    "import numpy as np\n",
    "import matplotlib.pyplot as plt\n",
    "import seaborn as sns\n",
    "%matplotlib inline\n",
    "\n",
    "dete_survey = pd.read_csv('dete_survey.csv')\n",
    "tafe_survey = pd.read_csv('tafe_survey.csv')"
   ]
  },
  {
   "cell_type": "markdown",
   "metadata": {},
   "source": [
    "## Cleaning the Columns\n",
    "\n",
    "Before actually cleaning the data we'll drop some columns with information that we deem irrelevant.\n",
    "\n",
    "We want to relate the years of employment to dissatisfaction and the age to dissatisfaction on the employees who have resigned.\n",
    "\n",
    "So, any information that does not belong to these category (for instance, if the employee left because of retirement or because of marriage, etc.) are dropped, for the purpose of our analysis."
   ]
  },
  {
   "cell_type": "markdown",
   "metadata": {},
   "source": [
    "### The `dete_survey` dataframe"
   ]
  },
  {
   "cell_type": "code",
   "execution_count": 2,
   "metadata": {
    "scrolled": true
   },
   "outputs": [
    {
     "name": "stdout",
     "output_type": "stream",
     "text": [
      "<class 'pandas.core.frame.DataFrame'>\n",
      "RangeIndex: 822 entries, 0 to 821\n",
      "Data columns (total 56 columns):\n",
      "ID                                     822 non-null int64\n",
      "SeparationType                         822 non-null object\n",
      "Cease Date                             822 non-null object\n",
      "DETE Start Date                        822 non-null object\n",
      "Role Start Date                        822 non-null object\n",
      "Position                               817 non-null object\n",
      "Classification                         455 non-null object\n",
      "Region                                 822 non-null object\n",
      "Business Unit                          126 non-null object\n",
      "Employment Status                      817 non-null object\n",
      "Career move to public sector           822 non-null bool\n",
      "Career move to private sector          822 non-null bool\n",
      "Interpersonal conflicts                822 non-null bool\n",
      "Job dissatisfaction                    822 non-null bool\n",
      "Dissatisfaction with the department    822 non-null bool\n",
      "Physical work environment              822 non-null bool\n",
      "Lack of recognition                    822 non-null bool\n",
      "Lack of job security                   822 non-null bool\n",
      "Work location                          822 non-null bool\n",
      "Employment conditions                  822 non-null bool\n",
      "Maternity/family                       822 non-null bool\n",
      "Relocation                             822 non-null bool\n",
      "Study/Travel                           822 non-null bool\n",
      "Ill Health                             822 non-null bool\n",
      "Traumatic incident                     822 non-null bool\n",
      "Work life balance                      822 non-null bool\n",
      "Workload                               822 non-null bool\n",
      "None of the above                      822 non-null bool\n",
      "Professional Development               808 non-null object\n",
      "Opportunities for promotion            735 non-null object\n",
      "Staff morale                           816 non-null object\n",
      "Workplace issue                        788 non-null object\n",
      "Physical environment                   817 non-null object\n",
      "Worklife balance                       815 non-null object\n",
      "Stress and pressure support            810 non-null object\n",
      "Performance of supervisor              813 non-null object\n",
      "Peer support                           812 non-null object\n",
      "Initiative                             813 non-null object\n",
      "Skills                                 811 non-null object\n",
      "Coach                                  767 non-null object\n",
      "Career Aspirations                     746 non-null object\n",
      "Feedback                               792 non-null object\n",
      "Further PD                             768 non-null object\n",
      "Communication                          814 non-null object\n",
      "My say                                 812 non-null object\n",
      "Information                            816 non-null object\n",
      "Kept informed                          813 non-null object\n",
      "Wellness programs                      766 non-null object\n",
      "Health & Safety                        793 non-null object\n",
      "Gender                                 798 non-null object\n",
      "Age                                    811 non-null object\n",
      "Aboriginal                             16 non-null object\n",
      "Torres Strait                          3 non-null object\n",
      "South Sea                              7 non-null object\n",
      "Disability                             23 non-null object\n",
      "NESB                                   32 non-null object\n",
      "dtypes: bool(18), int64(1), object(37)\n",
      "memory usage: 258.6+ KB\n"
     ]
    }
   ],
   "source": [
    "dete_survey.info()"
   ]
  },
  {
   "cell_type": "markdown",
   "metadata": {},
   "source": [
    "There are some factors for the separation that look like motives for dissatisfaction (e.g., `Lack of recognition`). I'd include them for now."
   ]
  },
  {
   "cell_type": "code",
   "execution_count": 3,
   "metadata": {},
   "outputs": [],
   "source": [
    "dete_stay = ['SeparationType', 'Cease Date', 'DETE Start Date', 'Role Start Date', 'Interpersonal conflicts', 'Job dissatisfaction', 'Dissatisfaction with the department', 'Physical work environment', 'Lack of recognition', 'Lack of job security', 'Employment conditions', 'Work life balance', 'Workload', 'Age']\n",
    "\n",
    "dete_survey = dete_survey[dete_stay]"
   ]
  },
  {
   "cell_type": "code",
   "execution_count": 4,
   "metadata": {},
   "outputs": [
    {
     "name": "stdout",
     "output_type": "stream",
     "text": [
      "<class 'pandas.core.frame.DataFrame'>\n",
      "RangeIndex: 822 entries, 0 to 821\n",
      "Data columns (total 14 columns):\n",
      "separationtype                         822 non-null object\n",
      "cease_date                             822 non-null object\n",
      "dete_start_date                        822 non-null object\n",
      "role_start_date                        822 non-null object\n",
      "interpersonal_conflicts                822 non-null bool\n",
      "job_dissatisfaction                    822 non-null bool\n",
      "dissatisfaction_with_the_department    822 non-null bool\n",
      "physical_work_environment              822 non-null bool\n",
      "lack_of_recognition                    822 non-null bool\n",
      "lack_of_job_security                   822 non-null bool\n",
      "employment_conditions                  822 non-null bool\n",
      "work_life_balance                      822 non-null bool\n",
      "workload                               822 non-null bool\n",
      "age                                    811 non-null object\n",
      "dtypes: bool(9), object(5)\n",
      "memory usage: 39.5+ KB\n"
     ]
    }
   ],
   "source": [
    "# renaming columns\n",
    "def snakefy(cols):\n",
    "    cols = cols.str.strip().str.lower().str.replace(' ', '_')\n",
    "    return cols\n",
    "\n",
    "dete_survey.columns = snakefy(dete_survey.columns)\n",
    "dete_survey.info()"
   ]
  },
  {
   "cell_type": "code",
   "execution_count": 5,
   "metadata": {},
   "outputs": [
    {
     "data": {
      "text/html": [
       "<div>\n",
       "<style scoped>\n",
       "    .dataframe tbody tr th:only-of-type {\n",
       "        vertical-align: middle;\n",
       "    }\n",
       "\n",
       "    .dataframe tbody tr th {\n",
       "        vertical-align: top;\n",
       "    }\n",
       "\n",
       "    .dataframe thead th {\n",
       "        text-align: right;\n",
       "    }\n",
       "</style>\n",
       "<table border=\"1\" class=\"dataframe\">\n",
       "  <thead>\n",
       "    <tr style=\"text-align: right;\">\n",
       "      <th></th>\n",
       "      <th>separationtype</th>\n",
       "      <th>cease_date</th>\n",
       "      <th>dete_start_date</th>\n",
       "      <th>role_start_date</th>\n",
       "      <th>interpersonal_conflicts</th>\n",
       "      <th>job_dissatisfaction</th>\n",
       "      <th>dissatisfaction_with_the_department</th>\n",
       "      <th>physical_work_environment</th>\n",
       "      <th>lack_of_recognition</th>\n",
       "      <th>lack_of_job_security</th>\n",
       "      <th>employment_conditions</th>\n",
       "      <th>work_life_balance</th>\n",
       "      <th>workload</th>\n",
       "      <th>age</th>\n",
       "    </tr>\n",
       "  </thead>\n",
       "  <tbody>\n",
       "    <tr>\n",
       "      <td>count</td>\n",
       "      <td>822</td>\n",
       "      <td>822</td>\n",
       "      <td>822</td>\n",
       "      <td>822</td>\n",
       "      <td>822</td>\n",
       "      <td>822</td>\n",
       "      <td>822</td>\n",
       "      <td>822</td>\n",
       "      <td>822</td>\n",
       "      <td>822</td>\n",
       "      <td>822</td>\n",
       "      <td>822</td>\n",
       "      <td>822</td>\n",
       "      <td>811</td>\n",
       "    </tr>\n",
       "    <tr>\n",
       "      <td>unique</td>\n",
       "      <td>9</td>\n",
       "      <td>25</td>\n",
       "      <td>51</td>\n",
       "      <td>46</td>\n",
       "      <td>2</td>\n",
       "      <td>2</td>\n",
       "      <td>2</td>\n",
       "      <td>2</td>\n",
       "      <td>2</td>\n",
       "      <td>2</td>\n",
       "      <td>2</td>\n",
       "      <td>2</td>\n",
       "      <td>2</td>\n",
       "      <td>10</td>\n",
       "    </tr>\n",
       "    <tr>\n",
       "      <td>top</td>\n",
       "      <td>Age Retirement</td>\n",
       "      <td>2012</td>\n",
       "      <td>Not Stated</td>\n",
       "      <td>Not Stated</td>\n",
       "      <td>False</td>\n",
       "      <td>False</td>\n",
       "      <td>False</td>\n",
       "      <td>False</td>\n",
       "      <td>False</td>\n",
       "      <td>False</td>\n",
       "      <td>False</td>\n",
       "      <td>False</td>\n",
       "      <td>False</td>\n",
       "      <td>61 or older</td>\n",
       "    </tr>\n",
       "    <tr>\n",
       "      <td>freq</td>\n",
       "      <td>285</td>\n",
       "      <td>344</td>\n",
       "      <td>73</td>\n",
       "      <td>98</td>\n",
       "      <td>788</td>\n",
       "      <td>733</td>\n",
       "      <td>761</td>\n",
       "      <td>806</td>\n",
       "      <td>765</td>\n",
       "      <td>794</td>\n",
       "      <td>788</td>\n",
       "      <td>605</td>\n",
       "      <td>735</td>\n",
       "      <td>222</td>\n",
       "    </tr>\n",
       "  </tbody>\n",
       "</table>\n",
       "</div>"
      ],
      "text/plain": [
       "        separationtype cease_date dete_start_date role_start_date  \\\n",
       "count              822        822             822             822   \n",
       "unique               9         25              51              46   \n",
       "top     Age Retirement       2012      Not Stated      Not Stated   \n",
       "freq               285        344              73              98   \n",
       "\n",
       "       interpersonal_conflicts job_dissatisfaction  \\\n",
       "count                      822                 822   \n",
       "unique                       2                   2   \n",
       "top                      False               False   \n",
       "freq                       788                 733   \n",
       "\n",
       "       dissatisfaction_with_the_department physical_work_environment  \\\n",
       "count                                  822                       822   \n",
       "unique                                   2                         2   \n",
       "top                                  False                     False   \n",
       "freq                                   761                       806   \n",
       "\n",
       "       lack_of_recognition lack_of_job_security employment_conditions  \\\n",
       "count                  822                  822                   822   \n",
       "unique                   2                    2                     2   \n",
       "top                  False                False                 False   \n",
       "freq                   765                  794                   788   \n",
       "\n",
       "       work_life_balance workload          age  \n",
       "count                822      822          811  \n",
       "unique                 2        2           10  \n",
       "top                False    False  61 or older  \n",
       "freq                 605      735          222  "
      ]
     },
     "execution_count": 5,
     "metadata": {},
     "output_type": "execute_result"
    }
   ],
   "source": [
    "# examining data\n",
    "\n",
    "dete_survey.describe(include='all')"
   ]
  },
  {
   "cell_type": "code",
   "execution_count": 6,
   "metadata": {},
   "outputs": [],
   "source": [
    "# we see some NaN data that is written as Not Stated, so:\n",
    "dete_survey = dete_survey.replace('Not Stated', np.nan)"
   ]
  },
  {
   "cell_type": "code",
   "execution_count": 7,
   "metadata": {},
   "outputs": [
    {
     "name": "stdout",
     "output_type": "stream",
     "text": [
      "cease_date : \n",
      "['08/2012' '05/2012' '07/2012' '2012' '2013' '2014' '2010' '09/2013'\n",
      " '07/2013' '08/2013' '06/2013' '04/2013' '05/2013' '09/2010' '01/2014'\n",
      " '11/2012' '04/2014' '12/2013' '07/2014' '10/2013' '11/2013' nan '09/2014'\n",
      " '07/2006' '02/2014']\n",
      "\n",
      "\n",
      "dete_start_date : \n",
      "['1984' nan '2011' '2005' '1970' '1994' '1972' '1988' '2009' '1997' '1999'\n",
      " '1998' '1967' '2007' '1995' '1996' '2006' '1989' '1982' '1980' '1973'\n",
      " '1981' '1974' '1975' '1978' '2003' '2000' '1977' '1976' '1985' '2008'\n",
      " '1963' '1993' '1979' '1990' '1969' '1966' '2010' '1968' '1991' '1971'\n",
      " '2002' '1986' '2004' '2012' '1983' '2001' '1987' '1992' '2013' '1965']\n",
      "\n",
      "\n",
      "role_start_date : \n",
      "['2004' nan '2011' '2006' '1989' '1997' '2007' '1990' '2009' '2008' '1999'\n",
      " '1998' '2000' '2010' '1996' '1982' '2012' '1981' '2002' '1977' '2003'\n",
      " '1978' '1992' '1980' '1994' '1976' '1991' '2001' '1993' '1983' '1987'\n",
      " '1985' '1975' '1986' '1979' '1988' '2005' '1995' '1970' '1984' '200'\n",
      " '1974' '2013' '1971' '1973' '1972']\n",
      "\n",
      "\n"
     ]
    }
   ],
   "source": [
    "# transforming objects into numbers. First, we take a look at the unique values:\n",
    "numeric = ['cease_date', 'dete_start_date', 'role_start_date']\n",
    "for nums in numeric:\n",
    "    print(nums+' : ')\n",
    "    print(dete_survey[nums].unique())\n",
    "    print('\\n')"
   ]
  },
  {
   "cell_type": "code",
   "execution_count": 8,
   "metadata": {},
   "outputs": [
    {
     "data": {
      "text/plain": [
       "array(['2012', '2013', '2014', '2010', nan, '2006'], dtype=object)"
      ]
     },
     "execution_count": 8,
     "metadata": {},
     "output_type": "execute_result"
    }
   ],
   "source": [
    "dete_survey['cease_date'] = dete_survey['cease_date'].str.split('/').str[-1]\n",
    "dete_survey['cease_date'].unique()"
   ]
  },
  {
   "cell_type": "code",
   "execution_count": 9,
   "metadata": {},
   "outputs": [
    {
     "name": "stdout",
     "output_type": "stream",
     "text": [
      "<class 'pandas.core.frame.DataFrame'>\n",
      "RangeIndex: 822 entries, 0 to 821\n",
      "Data columns (total 3 columns):\n",
      "cease_date         788 non-null float64\n",
      "dete_start_date    749 non-null float64\n",
      "role_start_date    724 non-null float64\n",
      "dtypes: float64(3)\n",
      "memory usage: 19.4 KB\n"
     ]
    }
   ],
   "source": [
    "dete_survey[numeric] = dete_survey[numeric].astype(float)\n",
    "dete_survey[numeric].info()"
   ]
  },
  {
   "cell_type": "code",
   "execution_count": 10,
   "metadata": {},
   "outputs": [
    {
     "data": {
      "text/html": [
       "<div>\n",
       "<style scoped>\n",
       "    .dataframe tbody tr th:only-of-type {\n",
       "        vertical-align: middle;\n",
       "    }\n",
       "\n",
       "    .dataframe tbody tr th {\n",
       "        vertical-align: top;\n",
       "    }\n",
       "\n",
       "    .dataframe thead th {\n",
       "        text-align: right;\n",
       "    }\n",
       "</style>\n",
       "<table border=\"1\" class=\"dataframe\">\n",
       "  <thead>\n",
       "    <tr style=\"text-align: right;\">\n",
       "      <th></th>\n",
       "      <th>cease_date</th>\n",
       "      <th>dete_start_date</th>\n",
       "      <th>role_start_date</th>\n",
       "    </tr>\n",
       "  </thead>\n",
       "  <tbody>\n",
       "    <tr>\n",
       "      <td>count</td>\n",
       "      <td>788.000000</td>\n",
       "      <td>749.000000</td>\n",
       "      <td>724.000000</td>\n",
       "    </tr>\n",
       "    <tr>\n",
       "      <td>mean</td>\n",
       "      <td>2012.598985</td>\n",
       "      <td>1994.182911</td>\n",
       "      <td>1998.955801</td>\n",
       "    </tr>\n",
       "    <tr>\n",
       "      <td>std</td>\n",
       "      <td>0.662366</td>\n",
       "      <td>13.880503</td>\n",
       "      <td>67.792281</td>\n",
       "    </tr>\n",
       "    <tr>\n",
       "      <td>min</td>\n",
       "      <td>2006.000000</td>\n",
       "      <td>1963.000000</td>\n",
       "      <td>200.000000</td>\n",
       "    </tr>\n",
       "    <tr>\n",
       "      <td>25%</td>\n",
       "      <td>2012.000000</td>\n",
       "      <td>1982.000000</td>\n",
       "      <td>1995.000000</td>\n",
       "    </tr>\n",
       "    <tr>\n",
       "      <td>50%</td>\n",
       "      <td>2013.000000</td>\n",
       "      <td>1996.000000</td>\n",
       "      <td>2005.000000</td>\n",
       "    </tr>\n",
       "    <tr>\n",
       "      <td>75%</td>\n",
       "      <td>2013.000000</td>\n",
       "      <td>2007.000000</td>\n",
       "      <td>2010.000000</td>\n",
       "    </tr>\n",
       "    <tr>\n",
       "      <td>max</td>\n",
       "      <td>2014.000000</td>\n",
       "      <td>2013.000000</td>\n",
       "      <td>2013.000000</td>\n",
       "    </tr>\n",
       "  </tbody>\n",
       "</table>\n",
       "</div>"
      ],
      "text/plain": [
       "        cease_date  dete_start_date  role_start_date\n",
       "count   788.000000       749.000000       724.000000\n",
       "mean   2012.598985      1994.182911      1998.955801\n",
       "std       0.662366        13.880503        67.792281\n",
       "min    2006.000000      1963.000000       200.000000\n",
       "25%    2012.000000      1982.000000      1995.000000\n",
       "50%    2013.000000      1996.000000      2005.000000\n",
       "75%    2013.000000      2007.000000      2010.000000\n",
       "max    2014.000000      2013.000000      2013.000000"
      ]
     },
     "execution_count": 10,
     "metadata": {},
     "output_type": "execute_result"
    }
   ],
   "source": [
    "dete_survey.describe()"
   ]
  },
  {
   "cell_type": "code",
   "execution_count": 11,
   "metadata": {},
   "outputs": [
    {
     "data": {
      "text/html": [
       "<div>\n",
       "<style scoped>\n",
       "    .dataframe tbody tr th:only-of-type {\n",
       "        vertical-align: middle;\n",
       "    }\n",
       "\n",
       "    .dataframe tbody tr th {\n",
       "        vertical-align: top;\n",
       "    }\n",
       "\n",
       "    .dataframe thead th {\n",
       "        text-align: right;\n",
       "    }\n",
       "</style>\n",
       "<table border=\"1\" class=\"dataframe\">\n",
       "  <thead>\n",
       "    <tr style=\"text-align: right;\">\n",
       "      <th></th>\n",
       "      <th>cease_date</th>\n",
       "      <th>dete_start_date</th>\n",
       "      <th>role_start_date</th>\n",
       "    </tr>\n",
       "  </thead>\n",
       "  <tbody>\n",
       "    <tr>\n",
       "      <td>count</td>\n",
       "      <td>788.000000</td>\n",
       "      <td>749.000000</td>\n",
       "      <td>724.000000</td>\n",
       "    </tr>\n",
       "    <tr>\n",
       "      <td>mean</td>\n",
       "      <td>2012.582487</td>\n",
       "      <td>1994.182911</td>\n",
       "      <td>2001.441989</td>\n",
       "    </tr>\n",
       "    <tr>\n",
       "      <td>std</td>\n",
       "      <td>0.799967</td>\n",
       "      <td>13.880503</td>\n",
       "      <td>10.652473</td>\n",
       "    </tr>\n",
       "    <tr>\n",
       "      <td>min</td>\n",
       "      <td>2000.000000</td>\n",
       "      <td>1963.000000</td>\n",
       "      <td>1970.000000</td>\n",
       "    </tr>\n",
       "    <tr>\n",
       "      <td>25%</td>\n",
       "      <td>2012.000000</td>\n",
       "      <td>1982.000000</td>\n",
       "      <td>1995.000000</td>\n",
       "    </tr>\n",
       "    <tr>\n",
       "      <td>50%</td>\n",
       "      <td>2013.000000</td>\n",
       "      <td>1996.000000</td>\n",
       "      <td>2005.000000</td>\n",
       "    </tr>\n",
       "    <tr>\n",
       "      <td>75%</td>\n",
       "      <td>2013.000000</td>\n",
       "      <td>2007.000000</td>\n",
       "      <td>2010.000000</td>\n",
       "    </tr>\n",
       "    <tr>\n",
       "      <td>max</td>\n",
       "      <td>2014.000000</td>\n",
       "      <td>2013.000000</td>\n",
       "      <td>2013.000000</td>\n",
       "    </tr>\n",
       "  </tbody>\n",
       "</table>\n",
       "</div>"
      ],
      "text/plain": [
       "        cease_date  dete_start_date  role_start_date\n",
       "count   788.000000       749.000000       724.000000\n",
       "mean   2012.582487      1994.182911      2001.441989\n",
       "std       0.799967        13.880503        10.652473\n",
       "min    2000.000000      1963.000000      1970.000000\n",
       "25%    2012.000000      1982.000000      1995.000000\n",
       "50%    2013.000000      1996.000000      2005.000000\n",
       "75%    2013.000000      2007.000000      2010.000000\n",
       "max    2014.000000      2013.000000      2013.000000"
      ]
     },
     "execution_count": 11,
     "metadata": {},
     "output_type": "execute_result"
    }
   ],
   "source": [
    "# role_start_date has a weird minimum. Its probably meant to be 2000 instead of 200.\n",
    "dete_survey[dete_survey['role_start_date'] == 200] = 2000\n",
    "dete_survey.describe()"
   ]
  },
  {
   "cell_type": "code",
   "execution_count": 12,
   "metadata": {},
   "outputs": [
    {
     "data": {
      "text/plain": [
       "array(['Ill Health Retirement', 'Voluntary Early Retirement (VER)',\n",
       "       'Resignation-Other reasons', 'Age Retirement',\n",
       "       'Resignation-Other employer',\n",
       "       'Resignation-Move overseas/interstate', 'Other',\n",
       "       'Contract Expired', 'Termination', 2000], dtype=object)"
      ]
     },
     "execution_count": 12,
     "metadata": {},
     "output_type": "execute_result"
    }
   ],
   "source": [
    "# finally, let's restrict the data to the people who have resigned.\n",
    "dete_survey['separationtype'].unique()"
   ]
  },
  {
   "cell_type": "code",
   "execution_count": 13,
   "metadata": {},
   "outputs": [],
   "source": [
    "dete_survey['separationtype'] = dete_survey['separationtype'].str.split('-').str[0]\n",
    "dete_survey = dete_survey[dete_survey['separationtype'] == 'Resignation']"
   ]
  },
  {
   "cell_type": "code",
   "execution_count": 14,
   "metadata": {},
   "outputs": [
    {
     "data": {
      "text/html": [
       "<div>\n",
       "<style scoped>\n",
       "    .dataframe tbody tr th:only-of-type {\n",
       "        vertical-align: middle;\n",
       "    }\n",
       "\n",
       "    .dataframe tbody tr th {\n",
       "        vertical-align: top;\n",
       "    }\n",
       "\n",
       "    .dataframe thead th {\n",
       "        text-align: right;\n",
       "    }\n",
       "</style>\n",
       "<table border=\"1\" class=\"dataframe\">\n",
       "  <thead>\n",
       "    <tr style=\"text-align: right;\">\n",
       "      <th></th>\n",
       "      <th>separationtype</th>\n",
       "      <th>cease_date</th>\n",
       "      <th>dete_start_date</th>\n",
       "      <th>role_start_date</th>\n",
       "      <th>interpersonal_conflicts</th>\n",
       "      <th>job_dissatisfaction</th>\n",
       "      <th>dissatisfaction_with_the_department</th>\n",
       "      <th>physical_work_environment</th>\n",
       "      <th>lack_of_recognition</th>\n",
       "      <th>lack_of_job_security</th>\n",
       "      <th>employment_conditions</th>\n",
       "      <th>work_life_balance</th>\n",
       "      <th>workload</th>\n",
       "      <th>age</th>\n",
       "    </tr>\n",
       "  </thead>\n",
       "  <tbody>\n",
       "    <tr>\n",
       "      <td>count</td>\n",
       "      <td>310</td>\n",
       "      <td>299.000000</td>\n",
       "      <td>282.000000</td>\n",
       "      <td>270.000000</td>\n",
       "      <td>310</td>\n",
       "      <td>310</td>\n",
       "      <td>310</td>\n",
       "      <td>310</td>\n",
       "      <td>310</td>\n",
       "      <td>310</td>\n",
       "      <td>310</td>\n",
       "      <td>310</td>\n",
       "      <td>310</td>\n",
       "      <td>305</td>\n",
       "    </tr>\n",
       "    <tr>\n",
       "      <td>unique</td>\n",
       "      <td>1</td>\n",
       "      <td>NaN</td>\n",
       "      <td>NaN</td>\n",
       "      <td>NaN</td>\n",
       "      <td>2</td>\n",
       "      <td>2</td>\n",
       "      <td>2</td>\n",
       "      <td>2</td>\n",
       "      <td>2</td>\n",
       "      <td>2</td>\n",
       "      <td>2</td>\n",
       "      <td>2</td>\n",
       "      <td>2</td>\n",
       "      <td>10</td>\n",
       "    </tr>\n",
       "    <tr>\n",
       "      <td>top</td>\n",
       "      <td>Resignation</td>\n",
       "      <td>NaN</td>\n",
       "      <td>NaN</td>\n",
       "      <td>NaN</td>\n",
       "      <td>False</td>\n",
       "      <td>False</td>\n",
       "      <td>False</td>\n",
       "      <td>False</td>\n",
       "      <td>False</td>\n",
       "      <td>False</td>\n",
       "      <td>False</td>\n",
       "      <td>False</td>\n",
       "      <td>False</td>\n",
       "      <td>41-45</td>\n",
       "    </tr>\n",
       "    <tr>\n",
       "      <td>freq</td>\n",
       "      <td>310</td>\n",
       "      <td>NaN</td>\n",
       "      <td>NaN</td>\n",
       "      <td>NaN</td>\n",
       "      <td>290</td>\n",
       "      <td>269</td>\n",
       "      <td>281</td>\n",
       "      <td>304</td>\n",
       "      <td>277</td>\n",
       "      <td>296</td>\n",
       "      <td>287</td>\n",
       "      <td>242</td>\n",
       "      <td>283</td>\n",
       "      <td>48</td>\n",
       "    </tr>\n",
       "    <tr>\n",
       "      <td>mean</td>\n",
       "      <td>NaN</td>\n",
       "      <td>2012.598662</td>\n",
       "      <td>2002.074468</td>\n",
       "      <td>2006.318519</td>\n",
       "      <td>NaN</td>\n",
       "      <td>NaN</td>\n",
       "      <td>NaN</td>\n",
       "      <td>NaN</td>\n",
       "      <td>NaN</td>\n",
       "      <td>NaN</td>\n",
       "      <td>NaN</td>\n",
       "      <td>NaN</td>\n",
       "      <td>NaN</td>\n",
       "      <td>NaN</td>\n",
       "    </tr>\n",
       "    <tr>\n",
       "      <td>std</td>\n",
       "      <td>NaN</td>\n",
       "      <td>0.754938</td>\n",
       "      <td>9.931337</td>\n",
       "      <td>7.269278</td>\n",
       "      <td>NaN</td>\n",
       "      <td>NaN</td>\n",
       "      <td>NaN</td>\n",
       "      <td>NaN</td>\n",
       "      <td>NaN</td>\n",
       "      <td>NaN</td>\n",
       "      <td>NaN</td>\n",
       "      <td>NaN</td>\n",
       "      <td>NaN</td>\n",
       "      <td>NaN</td>\n",
       "    </tr>\n",
       "    <tr>\n",
       "      <td>min</td>\n",
       "      <td>NaN</td>\n",
       "      <td>2006.000000</td>\n",
       "      <td>1963.000000</td>\n",
       "      <td>1976.000000</td>\n",
       "      <td>NaN</td>\n",
       "      <td>NaN</td>\n",
       "      <td>NaN</td>\n",
       "      <td>NaN</td>\n",
       "      <td>NaN</td>\n",
       "      <td>NaN</td>\n",
       "      <td>NaN</td>\n",
       "      <td>NaN</td>\n",
       "      <td>NaN</td>\n",
       "      <td>NaN</td>\n",
       "    </tr>\n",
       "    <tr>\n",
       "      <td>25%</td>\n",
       "      <td>NaN</td>\n",
       "      <td>2012.000000</td>\n",
       "      <td>1997.000000</td>\n",
       "      <td>2004.000000</td>\n",
       "      <td>NaN</td>\n",
       "      <td>NaN</td>\n",
       "      <td>NaN</td>\n",
       "      <td>NaN</td>\n",
       "      <td>NaN</td>\n",
       "      <td>NaN</td>\n",
       "      <td>NaN</td>\n",
       "      <td>NaN</td>\n",
       "      <td>NaN</td>\n",
       "      <td>NaN</td>\n",
       "    </tr>\n",
       "    <tr>\n",
       "      <td>50%</td>\n",
       "      <td>NaN</td>\n",
       "      <td>2013.000000</td>\n",
       "      <td>2005.500000</td>\n",
       "      <td>2009.000000</td>\n",
       "      <td>NaN</td>\n",
       "      <td>NaN</td>\n",
       "      <td>NaN</td>\n",
       "      <td>NaN</td>\n",
       "      <td>NaN</td>\n",
       "      <td>NaN</td>\n",
       "      <td>NaN</td>\n",
       "      <td>NaN</td>\n",
       "      <td>NaN</td>\n",
       "      <td>NaN</td>\n",
       "    </tr>\n",
       "    <tr>\n",
       "      <td>75%</td>\n",
       "      <td>NaN</td>\n",
       "      <td>2013.000000</td>\n",
       "      <td>2010.000000</td>\n",
       "      <td>2011.000000</td>\n",
       "      <td>NaN</td>\n",
       "      <td>NaN</td>\n",
       "      <td>NaN</td>\n",
       "      <td>NaN</td>\n",
       "      <td>NaN</td>\n",
       "      <td>NaN</td>\n",
       "      <td>NaN</td>\n",
       "      <td>NaN</td>\n",
       "      <td>NaN</td>\n",
       "      <td>NaN</td>\n",
       "    </tr>\n",
       "    <tr>\n",
       "      <td>max</td>\n",
       "      <td>NaN</td>\n",
       "      <td>2014.000000</td>\n",
       "      <td>2013.000000</td>\n",
       "      <td>2013.000000</td>\n",
       "      <td>NaN</td>\n",
       "      <td>NaN</td>\n",
       "      <td>NaN</td>\n",
       "      <td>NaN</td>\n",
       "      <td>NaN</td>\n",
       "      <td>NaN</td>\n",
       "      <td>NaN</td>\n",
       "      <td>NaN</td>\n",
       "      <td>NaN</td>\n",
       "      <td>NaN</td>\n",
       "    </tr>\n",
       "  </tbody>\n",
       "</table>\n",
       "</div>"
      ],
      "text/plain": [
       "       separationtype   cease_date  dete_start_date  role_start_date  \\\n",
       "count             310   299.000000       282.000000       270.000000   \n",
       "unique              1          NaN              NaN              NaN   \n",
       "top       Resignation          NaN              NaN              NaN   \n",
       "freq              310          NaN              NaN              NaN   \n",
       "mean              NaN  2012.598662      2002.074468      2006.318519   \n",
       "std               NaN     0.754938         9.931337         7.269278   \n",
       "min               NaN  2006.000000      1963.000000      1976.000000   \n",
       "25%               NaN  2012.000000      1997.000000      2004.000000   \n",
       "50%               NaN  2013.000000      2005.500000      2009.000000   \n",
       "75%               NaN  2013.000000      2010.000000      2011.000000   \n",
       "max               NaN  2014.000000      2013.000000      2013.000000   \n",
       "\n",
       "       interpersonal_conflicts job_dissatisfaction  \\\n",
       "count                      310                 310   \n",
       "unique                       2                   2   \n",
       "top                      False               False   \n",
       "freq                       290                 269   \n",
       "mean                       NaN                 NaN   \n",
       "std                        NaN                 NaN   \n",
       "min                        NaN                 NaN   \n",
       "25%                        NaN                 NaN   \n",
       "50%                        NaN                 NaN   \n",
       "75%                        NaN                 NaN   \n",
       "max                        NaN                 NaN   \n",
       "\n",
       "       dissatisfaction_with_the_department physical_work_environment  \\\n",
       "count                                  310                       310   \n",
       "unique                                   2                         2   \n",
       "top                                  False                     False   \n",
       "freq                                   281                       304   \n",
       "mean                                   NaN                       NaN   \n",
       "std                                    NaN                       NaN   \n",
       "min                                    NaN                       NaN   \n",
       "25%                                    NaN                       NaN   \n",
       "50%                                    NaN                       NaN   \n",
       "75%                                    NaN                       NaN   \n",
       "max                                    NaN                       NaN   \n",
       "\n",
       "       lack_of_recognition lack_of_job_security employment_conditions  \\\n",
       "count                  310                  310                   310   \n",
       "unique                   2                    2                     2   \n",
       "top                  False                False                 False   \n",
       "freq                   277                  296                   287   \n",
       "mean                   NaN                  NaN                   NaN   \n",
       "std                    NaN                  NaN                   NaN   \n",
       "min                    NaN                  NaN                   NaN   \n",
       "25%                    NaN                  NaN                   NaN   \n",
       "50%                    NaN                  NaN                   NaN   \n",
       "75%                    NaN                  NaN                   NaN   \n",
       "max                    NaN                  NaN                   NaN   \n",
       "\n",
       "       work_life_balance workload    age  \n",
       "count                310      310    305  \n",
       "unique                 2        2     10  \n",
       "top                False    False  41-45  \n",
       "freq                 242      283     48  \n",
       "mean                 NaN      NaN    NaN  \n",
       "std                  NaN      NaN    NaN  \n",
       "min                  NaN      NaN    NaN  \n",
       "25%                  NaN      NaN    NaN  \n",
       "50%                  NaN      NaN    NaN  \n",
       "75%                  NaN      NaN    NaN  \n",
       "max                  NaN      NaN    NaN  "
      ]
     },
     "execution_count": 14,
     "metadata": {},
     "output_type": "execute_result"
    }
   ],
   "source": [
    "dete_survey.describe(include='all')"
   ]
  },
  {
   "cell_type": "markdown",
   "metadata": {},
   "source": [
    "### Removing `NaN`s\n",
    "\n",
    "Now I'll address the NaNs issue. \n",
    "\n",
    "FIrst, let's visualize where they concentrate. The graph below shows where they concentrate: black is for a NaN value and the off-white for a good value."
   ]
  },
  {
   "cell_type": "code",
   "execution_count": 15,
   "metadata": {},
   "outputs": [
    {
     "data": {
      "image/png": "[encoded data removed]",
      "text/plain": [
       "<Figure size 720x648 with 1 Axes>"
      ]
     },
     "metadata": {
      "needs_background": "light"
     },
     "output_type": "display_data"
    },
    {
     "name": "stdout",
     "output_type": "stream",
     "text": [
      "\n",
      "\n",
      "separationtype                          0\n",
      "cease_date                             11\n",
      "dete_start_date                        28\n",
      "role_start_date                        40\n",
      "interpersonal_conflicts                 0\n",
      "job_dissatisfaction                     0\n",
      "dissatisfaction_with_the_department     0\n",
      "physical_work_environment               0\n",
      "lack_of_recognition                     0\n",
      "lack_of_job_security                    0\n",
      "employment_conditions                   0\n",
      "work_life_balance                       0\n",
      "workload                                0\n",
      "age                                     5\n",
      "dtype: int64\n"
     ]
    }
   ],
   "source": [
    "def plot_null_matrix(df, figsize=(10,9)):\n",
    "    # initiate the figure\n",
    "    plt.figure(figsize=figsize)\n",
    "    # create a boolean dataframe based on whether values are null\n",
    "    df_null = df.isnull()\n",
    "    # create a heatmap of the boolean dataframe\n",
    "    sns.heatmap(~df_null, cbar=False, yticklabels=False)\n",
    "    plt.xticks(rotation=90, size='x-large')\n",
    "    plt.show()\n",
    "    \n",
    "plot_null_matrix(dete_survey)\n",
    "print('\\n')\n",
    "print(dete_survey.isnull().sum())"
   ]
  },
  {
   "cell_type": "markdown",
   "metadata": {},
   "source": [
    "One first thing we could do is to assume that where the `dete_start_date` is missing its the same as the `role_start_date` and vice-versa."
   ]
  },
  {
   "cell_type": "code",
   "execution_count": 16,
   "metadata": {},
   "outputs": [],
   "source": [
    "dete_survey['dete_start_date'].fillna(dete_survey['role_start_date'], inplace=True)\n",
    "dete_survey['role_start_date'].fillna(dete_survey['dete_start_date'], inplace=True)"
   ]
  },
  {
   "cell_type": "markdown",
   "metadata": {},
   "source": [
    "Now, this does not eliminate all the NaNs in `*_start_date`. But we can't really work without this information (because, below, we will use the variable length of service to unify with the `tafe_survey`), so we'll have to drop it."
   ]
  },
  {
   "cell_type": "code",
   "execution_count": 17,
   "metadata": {},
   "outputs": [
    {
     "name": "stdout",
     "output_type": "stream",
     "text": [
      "0.035483870967741936\n"
     ]
    }
   ],
   "source": [
    "print(dete_survey['cease_date'].isnull().sum()/len(dete_survey['cease_date']))"
   ]
  },
  {
   "cell_type": "markdown",
   "metadata": {},
   "source": [
    "Next, we see some few missing values on the `cease_date` and the `age`. We can't really do any analysis relating the time on employment with the age if the age is missing. \n",
    "\n",
    "We could work something out for the `cease_date` but its probably less damaging to our analysis to drop the none values, since there's not much of them (only about 3.5%) and we won't be introducint a new Ansatz to our problem."
   ]
  },
  {
   "cell_type": "code",
   "execution_count": 18,
   "metadata": {},
   "outputs": [],
   "source": [
    "dete_survey.dropna(subset = ['cease_date', 'age', 'role_start_date'], inplace=True)"
   ]
  },
  {
   "cell_type": "code",
   "execution_count": 19,
   "metadata": {},
   "outputs": [
    {
     "name": "stdout",
     "output_type": "stream",
     "text": [
      "separationtype                         0\n",
      "cease_date                             0\n",
      "dete_start_date                        0\n",
      "role_start_date                        0\n",
      "interpersonal_conflicts                0\n",
      "job_dissatisfaction                    0\n",
      "dissatisfaction_with_the_department    0\n",
      "physical_work_environment              0\n",
      "lack_of_recognition                    0\n",
      "lack_of_job_security                   0\n",
      "employment_conditions                  0\n",
      "work_life_balance                      0\n",
      "workload                               0\n",
      "age                                    0\n",
      "dtype: int64\n"
     ]
    }
   ],
   "source": [
    "print(dete_survey.isnull().sum())"
   ]
  },
  {
   "cell_type": "code",
   "execution_count": 20,
   "metadata": {},
   "outputs": [
    {
     "data": {
      "text/plain": [
       "array(['36-40', '41-45', '31-35', '46-50', '56-60', '51-55',\n",
       "       '61 or older', '21-25', '26-30', '20 or younger'], dtype=object)"
      ]
     },
     "execution_count": 20,
     "metadata": {},
     "output_type": "execute_result"
    }
   ],
   "source": [
    "dete_survey['age'].unique()"
   ]
  },
  {
   "cell_type": "code",
   "execution_count": 21,
   "metadata": {},
   "outputs": [
    {
     "data": {
      "text/plain": [
       "2006.111111111111"
      ]
     },
     "execution_count": 21,
     "metadata": {},
     "output_type": "execute_result"
    }
   ],
   "source": [
    "dete_survey[dete_survey['age'] == '36-40']['dete_start_date'].mean()"
   ]
  },
  {
   "cell_type": "code",
   "execution_count": 22,
   "metadata": {},
   "outputs": [
    {
     "name": "stdout",
     "output_type": "stream",
     "text": [
      "36-40 : \n",
      "2006.0\n",
      "\n",
      "\n",
      "41-45 : \n",
      "2001.0\n",
      "\n",
      "\n",
      "31-35 : \n",
      "2006.0\n",
      "\n",
      "\n",
      "46-50 : \n",
      "2000.0\n",
      "\n",
      "\n",
      "56-60 : \n",
      "1992.0\n",
      "\n",
      "\n",
      "51-55 : \n",
      "1996.0\n",
      "\n",
      "\n",
      "61 or older : \n",
      "1989.0\n",
      "\n",
      "\n",
      "21-25 : \n",
      "2010.0\n",
      "\n",
      "\n",
      "26-30 : \n",
      "2008.0\n",
      "\n",
      "\n",
      "20 or younger : \n",
      "2011.0\n",
      "\n",
      "\n"
     ]
    }
   ],
   "source": [
    "for ages in dete_survey['age'].unique():\n",
    "    print(ages + ' : ')\n",
    "    print(dete_survey[dete_survey['age'] == ages]['dete_start_date'].mean().astype(int).astype(float))\n",
    "    print('\\n')"
   ]
  },
  {
   "cell_type": "markdown",
   "metadata": {},
   "source": [
    "### The `tafe_survey` dataframe"
   ]
  },
  {
   "cell_type": "code",
   "execution_count": 23,
   "metadata": {
    "scrolled": true
   },
   "outputs": [
    {
     "data": {
      "text/plain": [
       "Index(['Record ID', 'Institute', 'WorkArea', 'CESSATION YEAR',\n",
       "       'Reason for ceasing employment',\n",
       "       'Contributing Factors. Career Move - Public Sector ',\n",
       "       'Contributing Factors. Career Move - Private Sector ',\n",
       "       'Contributing Factors. Career Move - Self-employment',\n",
       "       'Contributing Factors. Ill Health',\n",
       "       'Contributing Factors. Maternity/Family',\n",
       "       'Contributing Factors. Dissatisfaction',\n",
       "       'Contributing Factors. Job Dissatisfaction',\n",
       "       'Contributing Factors. Interpersonal Conflict',\n",
       "       'Contributing Factors. Study', 'Contributing Factors. Travel',\n",
       "       'Contributing Factors. Other', 'Contributing Factors. NONE',\n",
       "       'Main Factor. Which of these was the main factor for leaving?',\n",
       "       'InstituteViews. Topic:1. I feel the senior leadership had a clear vision and direction',\n",
       "       'InstituteViews. Topic:2. I was given access to skills training to help me do my job better',\n",
       "       'InstituteViews. Topic:3. I was given adequate opportunities for personal development',\n",
       "       'InstituteViews. Topic:4. I was given adequate opportunities for promotion within %Institute]Q25LBL%',\n",
       "       'InstituteViews. Topic:5. I felt the salary for the job was right for the responsibilities I had',\n",
       "       'InstituteViews. Topic:6. The organisation recognised when staff did good work',\n",
       "       'InstituteViews. Topic:7. Management was generally supportive of me',\n",
       "       'InstituteViews. Topic:8. Management was generally supportive of my team',\n",
       "       'InstituteViews. Topic:9. I was kept informed of the changes in the organisation which would affect me',\n",
       "       'InstituteViews. Topic:10. Staff morale was positive within the Institute',\n",
       "       'InstituteViews. Topic:11. If I had a workplace issue it was dealt with quickly',\n",
       "       'InstituteViews. Topic:12. If I had a workplace issue it was dealt with efficiently',\n",
       "       'InstituteViews. Topic:13. If I had a workplace issue it was dealt with discreetly',\n",
       "       'WorkUnitViews. Topic:14. I was satisfied with the quality of the management and supervision within my work unit',\n",
       "       'WorkUnitViews. Topic:15. I worked well with my colleagues',\n",
       "       'WorkUnitViews. Topic:16. My job was challenging and interesting',\n",
       "       'WorkUnitViews. Topic:17. I was encouraged to use my initiative in the course of my work',\n",
       "       'WorkUnitViews. Topic:18. I had sufficient contact with other people in my job',\n",
       "       'WorkUnitViews. Topic:19. I was given adequate support and co-operation by my peers to enable me to do my job',\n",
       "       'WorkUnitViews. Topic:20. I was able to use the full range of my skills in my job',\n",
       "       'WorkUnitViews. Topic:21. I was able to use the full range of my abilities in my job. ; Category:Level of Agreement; Question:YOUR VIEWS ABOUT YOUR WORK UNIT]',\n",
       "       'WorkUnitViews. Topic:22. I was able to use the full range of my knowledge in my job',\n",
       "       'WorkUnitViews. Topic:23. My job provided sufficient variety',\n",
       "       'WorkUnitViews. Topic:24. I was able to cope with the level of stress and pressure in my job',\n",
       "       'WorkUnitViews. Topic:25. My job allowed me to balance the demands of work and family to my satisfaction',\n",
       "       'WorkUnitViews. Topic:26. My supervisor gave me adequate personal recognition and feedback on my performance',\n",
       "       'WorkUnitViews. Topic:27. My working environment was satisfactory e.g. sufficient space, good lighting, suitable seating and working area',\n",
       "       'WorkUnitViews. Topic:28. I was given the opportunity to mentor and coach others in order for me to pass on my skills and knowledge prior to my cessation date',\n",
       "       'WorkUnitViews. Topic:29. There was adequate communication between staff in my unit',\n",
       "       'WorkUnitViews. Topic:30. Staff morale was positive within my work unit',\n",
       "       'Induction. Did you undertake Workplace Induction?',\n",
       "       'InductionInfo. Topic:Did you undertake a Corporate Induction?',\n",
       "       'InductionInfo. Topic:Did you undertake a Institute Induction?',\n",
       "       'InductionInfo. Topic: Did you undertake Team Induction?',\n",
       "       'InductionInfo. Face to Face Topic:Did you undertake a Corporate Induction; Category:How it was conducted?',\n",
       "       'InductionInfo. On-line Topic:Did you undertake a Corporate Induction; Category:How it was conducted?',\n",
       "       'InductionInfo. Induction Manual Topic:Did you undertake a Corporate Induction?',\n",
       "       'InductionInfo. Face to Face Topic:Did you undertake a Institute Induction?',\n",
       "       'InductionInfo. On-line Topic:Did you undertake a Institute Induction?',\n",
       "       'InductionInfo. Induction Manual Topic:Did you undertake a Institute Induction?',\n",
       "       'InductionInfo. Face to Face Topic: Did you undertake Team Induction; Category?',\n",
       "       'InductionInfo. On-line Topic: Did you undertake Team Induction?process you undertook and how it was conducted.]',\n",
       "       'InductionInfo. Induction Manual Topic: Did you undertake Team Induction?',\n",
       "       'Workplace. Topic:Did you and your Manager develop a Performance and Professional Development Plan (PPDP)?',\n",
       "       'Workplace. Topic:Does your workplace promote a work culture free from all forms of unlawful discrimination?',\n",
       "       'Workplace. Topic:Does your workplace promote and practice the principles of employment equity?',\n",
       "       'Workplace. Topic:Does your workplace value the diversity of its employees?',\n",
       "       'Workplace. Topic:Would you recommend the Institute as an employer to others?',\n",
       "       'Gender. What is your Gender?', 'CurrentAge. Current Age',\n",
       "       'Employment Type. Employment Type', 'Classification. Classification',\n",
       "       'LengthofServiceOverall. Overall Length of Service at Institute (in years)',\n",
       "       'LengthofServiceCurrent. Length of Service at current workplace (in years)'],\n",
       "      dtype='object')"
      ]
     },
     "execution_count": 23,
     "metadata": {},
     "output_type": "execute_result"
    }
   ],
   "source": [
    "tafe_survey.columns"
   ]
  },
  {
   "cell_type": "markdown",
   "metadata": {},
   "source": [
    "There's a lot of information here. To combine both tables we should keep the information contained on both. Remember, the factors we selected from the dete_survey dataframe were the following: `interpersonal_conflicts`, `job_dissatisfaction`, `dissatisfaction_with_the_department`, `physical_work_environment`, `lack_of_recognition`, `lack_of_job_security`, `employment_conditions`, `work_life_balance` and `workload`"
   ]
  },
  {
   "cell_type": "code",
   "execution_count": 24,
   "metadata": {},
   "outputs": [],
   "source": [
    "change = {'Contributing Factors. Dissatisfaction' : 'dissatisfaction_with_the_department',\\\n",
    "          'Contributing Factors. Job Dissatisfaction': 'job_dissatisfaction',\\\n",
    "          'Contributing Factors. Interpersonal Conflict': 'interpersonal_conflicts',\\\n",
    "          'InstituteViews. Topic:6. The organisation recognised when staff did good work': 'lack_of_recognition',\\\n",
    "          'WorkUnitViews. Topic:25. My job allowed me to balance the demands of work and family to my satisfaction': 'work_life_balance',\\\n",
    "          'WorkUnitViews. Topic:27. My working environment was satisfactory e.g. sufficient space, good lighting, suitable seating and working area': 'physical_work_environment',\\\n",
    "          'InstituteViews. Topic:9. I was kept informed of the changes in the organisation which would affect me': 'lack_of_job_security',\\\n",
    "         'WorkUnitViews. Topic:24. I was able to cope with the level of stress and pressure in my job': 'workload'}"
   ]
  },
  {
   "cell_type": "markdown",
   "metadata": {},
   "source": [
    "The only category I couldn't find that would be equivalent on the dete_survey df is the `employment_conditions`. I'll simply drop it from the dete_survey"
   ]
  },
  {
   "cell_type": "code",
   "execution_count": 25,
   "metadata": {},
   "outputs": [],
   "source": [
    "dete_survey = dete_survey.drop(columns=['employment_conditions'])"
   ]
  },
  {
   "cell_type": "markdown",
   "metadata": {},
   "source": [
    "As a first clean up, I'll simply change the column names using the `change` dictionary above and remove any other column with WorkUnitViews, etc., etc."
   ]
  },
  {
   "cell_type": "code",
   "execution_count": 26,
   "metadata": {},
   "outputs": [
    {
     "name": "stderr",
     "output_type": "stream",
     "text": [
      "/Library/Frameworks/Python.framework/Versions/3.7/lib/python3.7/site-packages/pandas/core/strings.py:1843: UserWarning: This pattern has match groups. To actually get the groups, use str.extract.\n",
      "  return func(self, *args, **kwargs)\n"
     ]
    },
    {
     "data": {
      "text/plain": [
       "Index(['Record ID', 'Institute', 'WorkArea', 'CESSATION YEAR',\n",
       "       'Reason for ceasing employment', 'dissatisfaction_with_the_department',\n",
       "       'job_dissatisfaction', 'interpersonal_conflicts',\n",
       "       'Main Factor. Which of these was the main factor for leaving?',\n",
       "       'lack_of_recognition', 'lack_of_job_security', 'workload',\n",
       "       'work_life_balance', 'physical_work_environment',\n",
       "       'Gender. What is your Gender?', 'CurrentAge. Current Age',\n",
       "       'Employment Type. Employment Type', 'Classification. Classification',\n",
       "       'LengthofServiceOverall. Overall Length of Service at Institute (in years)',\n",
       "       'LengthofServiceCurrent. Length of Service at current workplace (in years)'],\n",
       "      dtype='object')"
      ]
     },
     "execution_count": 26,
     "metadata": {},
     "output_type": "execute_result"
    }
   ],
   "source": [
    "tafe_survey = tafe_survey.rename(columns=change)\n",
    "\n",
    "pattern = r\"(Contributing Factors)|(InstituteViews)|(WorkUnitViews)|(Workplace. Topic)|(Induction)|(InductionInfo)\"\n",
    "table_1 = ~tafe_survey.columns.str.contains(pattern)\n",
    "\n",
    "tafe_survey = tafe_survey[tafe_survey.columns[table_1]]\n",
    "tafe_survey.columns"
   ]
  },
  {
   "cell_type": "markdown",
   "metadata": {},
   "source": [
    "Now, I'll drop the remaining columns I don't want and rename the columns that have the pattern of `wordwordword. word word word`. It will simply be `wordwordword` and then we deal with it."
   ]
  },
  {
   "cell_type": "code",
   "execution_count": 27,
   "metadata": {},
   "outputs": [],
   "source": [
    "tafe_survey = tafe_survey.drop(columns=['Record ID', 'Institute', 'WorkArea', 'Employment Type. Employment Type', 'Main Factor. Which of these was the main factor for leaving?', 'Classification. Classification'])\n",
    "\n",
    "pattern2 = r\"(.+)(?=\\.\\s)\"\n",
    "col_values = tafe_survey.columns[tafe_survey.columns.str.contains(pattern2)].str.extract(pattern2)[0].values.tolist()\n",
    "# above we do the following: take only the columns that contains the pattern2, extract the capture group we created and this generates a df. We take the values and transform it into a list.\n",
    "col_keys = tafe_survey.columns[tafe_survey.columns.str.contains(pattern2)].tolist()\n",
    "# then we take the name of the columns that match the pattern2, as they are, to be the keys of our dictionary.\n",
    "col_renames = dict(zip(col_keys,col_values))\n",
    "\n",
    "tafe_survey = tafe_survey.rename(columns=col_renames)"
   ]
  },
  {
   "cell_type": "markdown",
   "metadata": {},
   "source": [
    "Finally, we rename the columns according to the pattern we established for the dete_survey"
   ]
  },
  {
   "cell_type": "code",
   "execution_count": 28,
   "metadata": {},
   "outputs": [
    {
     "name": "stdout",
     "output_type": "stream",
     "text": [
      "<class 'pandas.core.frame.DataFrame'>\n",
      "RangeIndex: 702 entries, 0 to 701\n",
      "Data columns (total 14 columns):\n",
      "cessation_year                         695 non-null float64\n",
      "reason_for_ceasing_employment          701 non-null object\n",
      "dissatisfaction_with_the_department    437 non-null object\n",
      "job_dissatisfaction                    437 non-null object\n",
      "interpersonal_conflicts                437 non-null object\n",
      "lack_of_recognition                    607 non-null object\n",
      "lack_of_job_security                   610 non-null object\n",
      "workload                               610 non-null object\n",
      "work_life_balance                      611 non-null object\n",
      "physical_work_environment              610 non-null object\n",
      "gender                                 596 non-null object\n",
      "currentage                             596 non-null object\n",
      "lengthofserviceoverall                 596 non-null object\n",
      "lengthofservicecurrent                 596 non-null object\n",
      "dtypes: float64(1), object(13)\n",
      "memory usage: 76.9+ KB\n"
     ]
    }
   ],
   "source": [
    "tafe_survey.columns = snakefy(tafe_survey.columns)\n",
    "tafe_survey.info()"
   ]
  },
  {
   "cell_type": "markdown",
   "metadata": {},
   "source": [
    "Restricting the data to resignation:"
   ]
  },
  {
   "cell_type": "code",
   "execution_count": 29,
   "metadata": {},
   "outputs": [
    {
     "data": {
      "text/plain": [
       "array(['Contract Expired', 'Retirement', 'Resignation',\n",
       "       'Retrenchment/ Redundancy', 'Termination', 'Transfer', nan],\n",
       "      dtype=object)"
      ]
     },
     "execution_count": 29,
     "metadata": {},
     "output_type": "execute_result"
    }
   ],
   "source": [
    "tafe_survey['reason_for_ceasing_employment'].unique()"
   ]
  },
  {
   "cell_type": "code",
   "execution_count": 30,
   "metadata": {},
   "outputs": [],
   "source": [
    "tafe_survey = tafe_survey[tafe_survey['reason_for_ceasing_employment'] == 'Resignation']"
   ]
  },
  {
   "cell_type": "code",
   "execution_count": 31,
   "metadata": {},
   "outputs": [
    {
     "data": {
      "text/html": [
       "<div>\n",
       "<style scoped>\n",
       "    .dataframe tbody tr th:only-of-type {\n",
       "        vertical-align: middle;\n",
       "    }\n",
       "\n",
       "    .dataframe tbody tr th {\n",
       "        vertical-align: top;\n",
       "    }\n",
       "\n",
       "    .dataframe thead th {\n",
       "        text-align: right;\n",
       "    }\n",
       "</style>\n",
       "<table border=\"1\" class=\"dataframe\">\n",
       "  <thead>\n",
       "    <tr style=\"text-align: right;\">\n",
       "      <th></th>\n",
       "      <th>cessation_year</th>\n",
       "      <th>reason_for_ceasing_employment</th>\n",
       "      <th>dissatisfaction_with_the_department</th>\n",
       "      <th>job_dissatisfaction</th>\n",
       "      <th>interpersonal_conflicts</th>\n",
       "      <th>lack_of_recognition</th>\n",
       "      <th>lack_of_job_security</th>\n",
       "      <th>workload</th>\n",
       "      <th>work_life_balance</th>\n",
       "      <th>physical_work_environment</th>\n",
       "      <th>gender</th>\n",
       "      <th>currentage</th>\n",
       "      <th>lengthofserviceoverall</th>\n",
       "      <th>lengthofservicecurrent</th>\n",
       "    </tr>\n",
       "  </thead>\n",
       "  <tbody>\n",
       "    <tr>\n",
       "      <td>count</td>\n",
       "      <td>335.000000</td>\n",
       "      <td>340</td>\n",
       "      <td>332</td>\n",
       "      <td>332</td>\n",
       "      <td>332</td>\n",
       "      <td>294</td>\n",
       "      <td>294</td>\n",
       "      <td>294</td>\n",
       "      <td>295</td>\n",
       "      <td>295</td>\n",
       "      <td>290</td>\n",
       "      <td>290</td>\n",
       "      <td>290</td>\n",
       "      <td>290</td>\n",
       "    </tr>\n",
       "    <tr>\n",
       "      <td>unique</td>\n",
       "      <td>NaN</td>\n",
       "      <td>1</td>\n",
       "      <td>2</td>\n",
       "      <td>2</td>\n",
       "      <td>2</td>\n",
       "      <td>6</td>\n",
       "      <td>6</td>\n",
       "      <td>6</td>\n",
       "      <td>6</td>\n",
       "      <td>6</td>\n",
       "      <td>2</td>\n",
       "      <td>9</td>\n",
       "      <td>7</td>\n",
       "      <td>7</td>\n",
       "    </tr>\n",
       "    <tr>\n",
       "      <td>top</td>\n",
       "      <td>NaN</td>\n",
       "      <td>Resignation</td>\n",
       "      <td>-</td>\n",
       "      <td>-</td>\n",
       "      <td>-</td>\n",
       "      <td>Agree</td>\n",
       "      <td>Agree</td>\n",
       "      <td>Agree</td>\n",
       "      <td>Agree</td>\n",
       "      <td>Agree</td>\n",
       "      <td>Female</td>\n",
       "      <td>41  45</td>\n",
       "      <td>Less than 1 year</td>\n",
       "      <td>Less than 1 year</td>\n",
       "    </tr>\n",
       "    <tr>\n",
       "      <td>freq</td>\n",
       "      <td>NaN</td>\n",
       "      <td>340</td>\n",
       "      <td>277</td>\n",
       "      <td>270</td>\n",
       "      <td>308</td>\n",
       "      <td>97</td>\n",
       "      <td>132</td>\n",
       "      <td>138</td>\n",
       "      <td>125</td>\n",
       "      <td>105</td>\n",
       "      <td>191</td>\n",
       "      <td>45</td>\n",
       "      <td>73</td>\n",
       "      <td>92</td>\n",
       "    </tr>\n",
       "    <tr>\n",
       "      <td>mean</td>\n",
       "      <td>2011.394030</td>\n",
       "      <td>NaN</td>\n",
       "      <td>NaN</td>\n",
       "      <td>NaN</td>\n",
       "      <td>NaN</td>\n",
       "      <td>NaN</td>\n",
       "      <td>NaN</td>\n",
       "      <td>NaN</td>\n",
       "      <td>NaN</td>\n",
       "      <td>NaN</td>\n",
       "      <td>NaN</td>\n",
       "      <td>NaN</td>\n",
       "      <td>NaN</td>\n",
       "      <td>NaN</td>\n",
       "    </tr>\n",
       "    <tr>\n",
       "      <td>std</td>\n",
       "      <td>1.005952</td>\n",
       "      <td>NaN</td>\n",
       "      <td>NaN</td>\n",
       "      <td>NaN</td>\n",
       "      <td>NaN</td>\n",
       "      <td>NaN</td>\n",
       "      <td>NaN</td>\n",
       "      <td>NaN</td>\n",
       "      <td>NaN</td>\n",
       "      <td>NaN</td>\n",
       "      <td>NaN</td>\n",
       "      <td>NaN</td>\n",
       "      <td>NaN</td>\n",
       "      <td>NaN</td>\n",
       "    </tr>\n",
       "    <tr>\n",
       "      <td>min</td>\n",
       "      <td>2009.000000</td>\n",
       "      <td>NaN</td>\n",
       "      <td>NaN</td>\n",
       "      <td>NaN</td>\n",
       "      <td>NaN</td>\n",
       "      <td>NaN</td>\n",
       "      <td>NaN</td>\n",
       "      <td>NaN</td>\n",
       "      <td>NaN</td>\n",
       "      <td>NaN</td>\n",
       "      <td>NaN</td>\n",
       "      <td>NaN</td>\n",
       "      <td>NaN</td>\n",
       "      <td>NaN</td>\n",
       "    </tr>\n",
       "    <tr>\n",
       "      <td>25%</td>\n",
       "      <td>2011.000000</td>\n",
       "      <td>NaN</td>\n",
       "      <td>NaN</td>\n",
       "      <td>NaN</td>\n",
       "      <td>NaN</td>\n",
       "      <td>NaN</td>\n",
       "      <td>NaN</td>\n",
       "      <td>NaN</td>\n",
       "      <td>NaN</td>\n",
       "      <td>NaN</td>\n",
       "      <td>NaN</td>\n",
       "      <td>NaN</td>\n",
       "      <td>NaN</td>\n",
       "      <td>NaN</td>\n",
       "    </tr>\n",
       "    <tr>\n",
       "      <td>50%</td>\n",
       "      <td>2011.000000</td>\n",
       "      <td>NaN</td>\n",
       "      <td>NaN</td>\n",
       "      <td>NaN</td>\n",
       "      <td>NaN</td>\n",
       "      <td>NaN</td>\n",
       "      <td>NaN</td>\n",
       "      <td>NaN</td>\n",
       "      <td>NaN</td>\n",
       "      <td>NaN</td>\n",
       "      <td>NaN</td>\n",
       "      <td>NaN</td>\n",
       "      <td>NaN</td>\n",
       "      <td>NaN</td>\n",
       "    </tr>\n",
       "    <tr>\n",
       "      <td>75%</td>\n",
       "      <td>2012.000000</td>\n",
       "      <td>NaN</td>\n",
       "      <td>NaN</td>\n",
       "      <td>NaN</td>\n",
       "      <td>NaN</td>\n",
       "      <td>NaN</td>\n",
       "      <td>NaN</td>\n",
       "      <td>NaN</td>\n",
       "      <td>NaN</td>\n",
       "      <td>NaN</td>\n",
       "      <td>NaN</td>\n",
       "      <td>NaN</td>\n",
       "      <td>NaN</td>\n",
       "      <td>NaN</td>\n",
       "    </tr>\n",
       "    <tr>\n",
       "      <td>max</td>\n",
       "      <td>2013.000000</td>\n",
       "      <td>NaN</td>\n",
       "      <td>NaN</td>\n",
       "      <td>NaN</td>\n",
       "      <td>NaN</td>\n",
       "      <td>NaN</td>\n",
       "      <td>NaN</td>\n",
       "      <td>NaN</td>\n",
       "      <td>NaN</td>\n",
       "      <td>NaN</td>\n",
       "      <td>NaN</td>\n",
       "      <td>NaN</td>\n",
       "      <td>NaN</td>\n",
       "      <td>NaN</td>\n",
       "    </tr>\n",
       "  </tbody>\n",
       "</table>\n",
       "</div>"
      ],
      "text/plain": [
       "        cessation_year reason_for_ceasing_employment  \\\n",
       "count       335.000000                           340   \n",
       "unique             NaN                             1   \n",
       "top                NaN                   Resignation   \n",
       "freq               NaN                           340   \n",
       "mean       2011.394030                           NaN   \n",
       "std           1.005952                           NaN   \n",
       "min        2009.000000                           NaN   \n",
       "25%        2011.000000                           NaN   \n",
       "50%        2011.000000                           NaN   \n",
       "75%        2012.000000                           NaN   \n",
       "max        2013.000000                           NaN   \n",
       "\n",
       "       dissatisfaction_with_the_department job_dissatisfaction  \\\n",
       "count                                  332                 332   \n",
       "unique                                   2                   2   \n",
       "top                                      -                   -   \n",
       "freq                                   277                 270   \n",
       "mean                                   NaN                 NaN   \n",
       "std                                    NaN                 NaN   \n",
       "min                                    NaN                 NaN   \n",
       "25%                                    NaN                 NaN   \n",
       "50%                                    NaN                 NaN   \n",
       "75%                                    NaN                 NaN   \n",
       "max                                    NaN                 NaN   \n",
       "\n",
       "       interpersonal_conflicts lack_of_recognition lack_of_job_security  \\\n",
       "count                      332                 294                  294   \n",
       "unique                       2                   6                    6   \n",
       "top                          -               Agree                Agree   \n",
       "freq                       308                  97                  132   \n",
       "mean                       NaN                 NaN                  NaN   \n",
       "std                        NaN                 NaN                  NaN   \n",
       "min                        NaN                 NaN                  NaN   \n",
       "25%                        NaN                 NaN                  NaN   \n",
       "50%                        NaN                 NaN                  NaN   \n",
       "75%                        NaN                 NaN                  NaN   \n",
       "max                        NaN                 NaN                  NaN   \n",
       "\n",
       "       workload work_life_balance physical_work_environment  gender  \\\n",
       "count       294               295                       295     290   \n",
       "unique        6                 6                         6       2   \n",
       "top       Agree             Agree                     Agree  Female   \n",
       "freq        138               125                       105     191   \n",
       "mean        NaN               NaN                       NaN     NaN   \n",
       "std         NaN               NaN                       NaN     NaN   \n",
       "min         NaN               NaN                       NaN     NaN   \n",
       "25%         NaN               NaN                       NaN     NaN   \n",
       "50%         NaN               NaN                       NaN     NaN   \n",
       "75%         NaN               NaN                       NaN     NaN   \n",
       "max         NaN               NaN                       NaN     NaN   \n",
       "\n",
       "       currentage lengthofserviceoverall lengthofservicecurrent  \n",
       "count         290                    290                    290  \n",
       "unique          9                      7                      7  \n",
       "top        41  45       Less than 1 year       Less than 1 year  \n",
       "freq           45                     73                     92  \n",
       "mean          NaN                    NaN                    NaN  \n",
       "std           NaN                    NaN                    NaN  \n",
       "min           NaN                    NaN                    NaN  \n",
       "25%           NaN                    NaN                    NaN  \n",
       "50%           NaN                    NaN                    NaN  \n",
       "75%           NaN                    NaN                    NaN  \n",
       "max           NaN                    NaN                    NaN  "
      ]
     },
     "execution_count": 31,
     "metadata": {},
     "output_type": "execute_result"
    }
   ],
   "source": [
    "tafe_survey.describe(include='all')"
   ]
  },
  {
   "cell_type": "markdown",
   "metadata": {},
   "source": [
    "Let's deal with the `Factor` kind of questions -- the ones that are quickly transformed into boolean."
   ]
  },
  {
   "cell_type": "code",
   "execution_count": 32,
   "metadata": {},
   "outputs": [
    {
     "name": "stdout",
     "output_type": "stream",
     "text": [
      "dissatisfaction_with_the_department : \n",
      "['-' 'Contributing Factors. Dissatisfaction ' nan]\n",
      "\n",
      "\n",
      "job_dissatisfaction : \n",
      "['-' 'Job Dissatisfaction' nan]\n",
      "\n",
      "\n",
      "interpersonal_conflicts : \n",
      "['-' nan 'Interpersonal Conflict']\n",
      "\n",
      "\n"
     ]
    }
   ],
   "source": [
    "factors = ['dissatisfaction_with_the_department', 'job_dissatisfaction', 'interpersonal_conflicts']\n",
    "\n",
    "for facs in factors:\n",
    "    print(facs+' : ')\n",
    "    print(tafe_survey[facs].unique())\n",
    "    print('\\n')"
   ]
  },
  {
   "cell_type": "markdown",
   "metadata": {},
   "source": [
    "What I gather is that `-` means False and the other things written mean True"
   ]
  },
  {
   "cell_type": "code",
   "execution_count": 33,
   "metadata": {},
   "outputs": [],
   "source": [
    "tafe_survey = tafe_survey.replace('-', False)\n",
    "\n",
    "pattern3 = r\".+\"\n",
    "tafe_survey[factors] = tafe_survey[factors].replace(pattern3, True, regex=True)"
   ]
  },
  {
   "cell_type": "markdown",
   "metadata": {},
   "source": [
    "Now, I'll deal with the questions -- the columns with Agree, and so on"
   ]
  },
  {
   "cell_type": "code",
   "execution_count": 34,
   "metadata": {},
   "outputs": [
    {
     "name": "stdout",
     "output_type": "stream",
     "text": [
      "lack_of_recognition : \n",
      "['Agree' 'Strongly Agree' 'Neutral' 'Strongly Disagree' nan 'Disagree'\n",
      " 'Not Applicable']\n",
      "\n",
      "\n",
      "lack_of_job_security : \n",
      "['Agree' 'Neutral' 'Strongly Agree' nan 'Disagree' 'Not Applicable'\n",
      " 'Strongly Disagree']\n",
      "\n",
      "\n",
      "workload : \n",
      "['Strongly Agree' 'Neutral' 'Disagree' 'Agree' nan 'Not Applicable'\n",
      " 'Strongly Disagree']\n",
      "\n",
      "\n",
      "work_life_balance : \n",
      "['Strongly Agree' 'Disagree' 'Agree' nan 'Neutral' 'Not Applicable'\n",
      " 'Strongly Disagree']\n",
      "\n",
      "\n",
      "physical_work_environment : \n",
      "['Strongly Agree' 'Disagree' 'Neutral' 'Agree' nan 'Strongly Disagree'\n",
      " 'Not Applicable']\n",
      "\n",
      "\n"
     ]
    }
   ],
   "source": [
    "questions = ['lack_of_recognition', 'lack_of_job_security', 'workload', 'work_life_balance', 'physical_work_environment']\n",
    "\n",
    "for q in questions:\n",
    "    print(q+' : ')\n",
    "    print(tafe_survey[q].unique())\n",
    "    print('\\n')"
   ]
  },
  {
   "cell_type": "markdown",
   "metadata": {},
   "source": [
    "I don't have much choice but to consider `Not Applicable` as a NaN. Let's see it's frequency:"
   ]
  },
  {
   "cell_type": "code",
   "execution_count": 35,
   "metadata": {},
   "outputs": [
    {
     "name": "stdout",
     "output_type": "stream",
     "text": [
      "lack_of_recognition : \n",
      "Agree                97\n",
      "Neutral              70\n",
      "Disagree             46\n",
      "Strongly Agree       42\n",
      "Strongly Disagree    36\n",
      "Not Applicable        3\n",
      "Name: lack_of_recognition, dtype: int64\n",
      "\n",
      "\n",
      "lack_of_job_security : \n",
      "Agree                132\n",
      "Strongly Agree        50\n",
      "Neutral               48\n",
      "Disagree              31\n",
      "Strongly Disagree     30\n",
      "Not Applicable         3\n",
      "Name: lack_of_job_security, dtype: int64\n",
      "\n",
      "\n",
      "workload : \n",
      "Agree                138\n",
      "Strongly Agree        66\n",
      "Neutral               47\n",
      "Disagree              26\n",
      "Strongly Disagree     12\n",
      "Not Applicable         5\n",
      "Name: workload, dtype: int64\n",
      "\n",
      "\n",
      "work_life_balance : \n",
      "Agree                125\n",
      "Strongly Agree        70\n",
      "Neutral               46\n",
      "Disagree              35\n",
      "Strongly Disagree     16\n",
      "Not Applicable         3\n",
      "Name: work_life_balance, dtype: int64\n",
      "\n",
      "\n",
      "physical_work_environment : \n",
      "Agree                105\n",
      "Strongly Agree        88\n",
      "Neutral               52\n",
      "Disagree              36\n",
      "Strongly Disagree     11\n",
      "Not Applicable         3\n",
      "Name: physical_work_environment, dtype: int64\n",
      "\n",
      "\n"
     ]
    }
   ],
   "source": [
    "for q in questions:\n",
    "    print(q+' : ')\n",
    "    print(tafe_survey[q].value_counts())\n",
    "    print('\\n')"
   ]
  },
  {
   "cell_type": "markdown",
   "metadata": {},
   "source": [
    "Thankfully `Not Applicable` doesn't appear much. I'll change it to an official NaN.\n",
    "\n",
    "Also, I'll do a naive assignment: Agree = Strongly Agree and the same for Disagree. Depending on the question, Neutral will be False or True (for instance, if `work_life_balance` is an issue, we want Neutral to be False).\n",
    "\n",
    "Here I'll have to look to the dictionary above to see how to make the assignments.\n",
    "\n",
    "The dictinary is:\n",
    "\n",
    "* The organisation recognised when staff did good work': 'lack_of_recognition'\n",
    "\n",
    "* My job allowed me to balance the demands of work and family to my satisfaction': 'work_life_balance'\n",
    "\n",
    "* My working environment was satisfactory e.g. sufficient space, good lighting, suitable seating and working area': 'physical_work_environment'\n",
    "\n",
    "* I was kept informed of the changes in the organisation which would affect me': 'lack_of_job_security'\n",
    "\n",
    "* I was able to cope with the level of stress and pressure in my job': 'workload'\n",
    "\n",
    "Now, in order for these columns to have information compatible with the `dete_survey` we'll have to switch True and False. For example, when the question \"The organisation recognised when staff did good work\" is true, it means there was recognition. But we're transforming this into `lack_of_recognition`, so when the person agrees we should substitute it with False.\n",
    "\n",
    "Therefore, we have the following assignments:\n",
    "\n",
    "* `lack_of_recognition`: Agree = False, Disagree = True;  \n",
    "* `work_life_balance`: Agree = False, Disagree = True;  \n",
    "* `physical_work_environment`: Agree = False, Disagree = True;  \n",
    "* `lack_of_job_security`: Agree = False, Disagree = True;  \n",
    "* `workload`: Agree = False, Disagree = True."
   ]
  },
  {
   "cell_type": "code",
   "execution_count": 36,
   "metadata": {},
   "outputs": [
    {
     "data": {
      "text/html": [
       "<div>\n",
       "<style scoped>\n",
       "    .dataframe tbody tr th:only-of-type {\n",
       "        vertical-align: middle;\n",
       "    }\n",
       "\n",
       "    .dataframe tbody tr th {\n",
       "        vertical-align: top;\n",
       "    }\n",
       "\n",
       "    .dataframe thead th {\n",
       "        text-align: right;\n",
       "    }\n",
       "</style>\n",
       "<table border=\"1\" class=\"dataframe\">\n",
       "  <thead>\n",
       "    <tr style=\"text-align: right;\">\n",
       "      <th></th>\n",
       "      <th>lack_of_recognition</th>\n",
       "      <th>lack_of_job_security</th>\n",
       "      <th>workload</th>\n",
       "      <th>work_life_balance</th>\n",
       "      <th>physical_work_environment</th>\n",
       "    </tr>\n",
       "  </thead>\n",
       "  <tbody>\n",
       "    <tr>\n",
       "      <td>3</td>\n",
       "      <td>False</td>\n",
       "      <td>False</td>\n",
       "      <td>False</td>\n",
       "      <td>False</td>\n",
       "      <td>False</td>\n",
       "    </tr>\n",
       "    <tr>\n",
       "      <td>4</td>\n",
       "      <td>False</td>\n",
       "      <td>False</td>\n",
       "      <td>False</td>\n",
       "      <td>False</td>\n",
       "      <td>False</td>\n",
       "    </tr>\n",
       "    <tr>\n",
       "      <td>5</td>\n",
       "      <td>False</td>\n",
       "      <td>False</td>\n",
       "      <td>False</td>\n",
       "      <td>True</td>\n",
       "      <td>True</td>\n",
       "    </tr>\n",
       "    <tr>\n",
       "      <td>6</td>\n",
       "      <td>False</td>\n",
       "      <td>False</td>\n",
       "      <td>False</td>\n",
       "      <td>False</td>\n",
       "      <td>False</td>\n",
       "    </tr>\n",
       "    <tr>\n",
       "      <td>7</td>\n",
       "      <td>False</td>\n",
       "      <td>False</td>\n",
       "      <td>True</td>\n",
       "      <td>True</td>\n",
       "      <td>False</td>\n",
       "    </tr>\n",
       "    <tr>\n",
       "      <td>...</td>\n",
       "      <td>...</td>\n",
       "      <td>...</td>\n",
       "      <td>...</td>\n",
       "      <td>...</td>\n",
       "      <td>...</td>\n",
       "    </tr>\n",
       "    <tr>\n",
       "      <td>696</td>\n",
       "      <td>False</td>\n",
       "      <td>False</td>\n",
       "      <td>False</td>\n",
       "      <td>False</td>\n",
       "      <td>False</td>\n",
       "    </tr>\n",
       "    <tr>\n",
       "      <td>697</td>\n",
       "      <td>False</td>\n",
       "      <td>False</td>\n",
       "      <td>False</td>\n",
       "      <td>False</td>\n",
       "      <td>False</td>\n",
       "    </tr>\n",
       "    <tr>\n",
       "      <td>698</td>\n",
       "      <td>NaN</td>\n",
       "      <td>NaN</td>\n",
       "      <td>NaN</td>\n",
       "      <td>NaN</td>\n",
       "      <td>NaN</td>\n",
       "    </tr>\n",
       "    <tr>\n",
       "      <td>699</td>\n",
       "      <td>False</td>\n",
       "      <td>False</td>\n",
       "      <td>False</td>\n",
       "      <td>False</td>\n",
       "      <td>False</td>\n",
       "    </tr>\n",
       "    <tr>\n",
       "      <td>701</td>\n",
       "      <td>False</td>\n",
       "      <td>False</td>\n",
       "      <td>False</td>\n",
       "      <td>False</td>\n",
       "      <td>False</td>\n",
       "    </tr>\n",
       "  </tbody>\n",
       "</table>\n",
       "<p>340 rows × 5 columns</p>\n",
       "</div>"
      ],
      "text/plain": [
       "    lack_of_recognition lack_of_job_security workload work_life_balance  \\\n",
       "3                 False                False    False             False   \n",
       "4                 False                False    False             False   \n",
       "5                 False                False    False              True   \n",
       "6                 False                False    False             False   \n",
       "7                 False                False     True              True   \n",
       "..                  ...                  ...      ...               ...   \n",
       "696               False                False    False             False   \n",
       "697               False                False    False             False   \n",
       "698                 NaN                  NaN      NaN               NaN   \n",
       "699               False                False    False             False   \n",
       "701               False                False    False             False   \n",
       "\n",
       "    physical_work_environment  \n",
       "3                       False  \n",
       "4                       False  \n",
       "5                        True  \n",
       "6                       False  \n",
       "7                       False  \n",
       "..                        ...  \n",
       "696                     False  \n",
       "697                     False  \n",
       "698                       NaN  \n",
       "699                     False  \n",
       "701                     False  \n",
       "\n",
       "[340 rows x 5 columns]"
      ]
     },
     "execution_count": 36,
     "metadata": {},
     "output_type": "execute_result"
    }
   ],
   "source": [
    "tafe_survey[questions] = tafe_survey[questions].replace('Not Applicable', np.nan).replace('Agree', False).replace('Strongly Agree', False).replace('Disagree', True).replace('Strongly Disagree', True).replace('Neutral', False)\n",
    "\n",
    "tafe_survey[questions]"
   ]
  },
  {
   "cell_type": "markdown",
   "metadata": {},
   "source": [
    "## Age and Years of Service\n",
    "\n",
    "Now I'll focus on the age and the years of service."
   ]
  },
  {
   "cell_type": "markdown",
   "metadata": {},
   "source": [
    "### The `dete_survey` dataframe"
   ]
  },
  {
   "cell_type": "code",
   "execution_count": 37,
   "metadata": {},
   "outputs": [
    {
     "data": {
      "text/html": [
       "<div>\n",
       "<style scoped>\n",
       "    .dataframe tbody tr th:only-of-type {\n",
       "        vertical-align: middle;\n",
       "    }\n",
       "\n",
       "    .dataframe tbody tr th {\n",
       "        vertical-align: top;\n",
       "    }\n",
       "\n",
       "    .dataframe thead th {\n",
       "        text-align: right;\n",
       "    }\n",
       "</style>\n",
       "<table border=\"1\" class=\"dataframe\">\n",
       "  <thead>\n",
       "    <tr style=\"text-align: right;\">\n",
       "      <th></th>\n",
       "      <th>separationtype</th>\n",
       "      <th>cease_date</th>\n",
       "      <th>dete_start_date</th>\n",
       "      <th>role_start_date</th>\n",
       "      <th>interpersonal_conflicts</th>\n",
       "      <th>job_dissatisfaction</th>\n",
       "      <th>dissatisfaction_with_the_department</th>\n",
       "      <th>physical_work_environment</th>\n",
       "      <th>lack_of_recognition</th>\n",
       "      <th>lack_of_job_security</th>\n",
       "      <th>work_life_balance</th>\n",
       "      <th>workload</th>\n",
       "      <th>age</th>\n",
       "    </tr>\n",
       "  </thead>\n",
       "  <tbody>\n",
       "    <tr>\n",
       "      <td>3</td>\n",
       "      <td>Resignation</td>\n",
       "      <td>2012.0</td>\n",
       "      <td>2005.0</td>\n",
       "      <td>2006.0</td>\n",
       "      <td>False</td>\n",
       "      <td>False</td>\n",
       "      <td>False</td>\n",
       "      <td>False</td>\n",
       "      <td>False</td>\n",
       "      <td>False</td>\n",
       "      <td>False</td>\n",
       "      <td>False</td>\n",
       "      <td>36-40</td>\n",
       "    </tr>\n",
       "    <tr>\n",
       "      <td>5</td>\n",
       "      <td>Resignation</td>\n",
       "      <td>2012.0</td>\n",
       "      <td>1994.0</td>\n",
       "      <td>1997.0</td>\n",
       "      <td>False</td>\n",
       "      <td>False</td>\n",
       "      <td>False</td>\n",
       "      <td>False</td>\n",
       "      <td>False</td>\n",
       "      <td>False</td>\n",
       "      <td>False</td>\n",
       "      <td>False</td>\n",
       "      <td>41-45</td>\n",
       "    </tr>\n",
       "    <tr>\n",
       "      <td>8</td>\n",
       "      <td>Resignation</td>\n",
       "      <td>2012.0</td>\n",
       "      <td>2009.0</td>\n",
       "      <td>2009.0</td>\n",
       "      <td>False</td>\n",
       "      <td>False</td>\n",
       "      <td>False</td>\n",
       "      <td>False</td>\n",
       "      <td>False</td>\n",
       "      <td>False</td>\n",
       "      <td>False</td>\n",
       "      <td>False</td>\n",
       "      <td>31-35</td>\n",
       "    </tr>\n",
       "    <tr>\n",
       "      <td>9</td>\n",
       "      <td>Resignation</td>\n",
       "      <td>2012.0</td>\n",
       "      <td>1997.0</td>\n",
       "      <td>2008.0</td>\n",
       "      <td>True</td>\n",
       "      <td>True</td>\n",
       "      <td>True</td>\n",
       "      <td>False</td>\n",
       "      <td>False</td>\n",
       "      <td>False</td>\n",
       "      <td>False</td>\n",
       "      <td>False</td>\n",
       "      <td>46-50</td>\n",
       "    </tr>\n",
       "    <tr>\n",
       "      <td>11</td>\n",
       "      <td>Resignation</td>\n",
       "      <td>2012.0</td>\n",
       "      <td>2009.0</td>\n",
       "      <td>2009.0</td>\n",
       "      <td>False</td>\n",
       "      <td>False</td>\n",
       "      <td>False</td>\n",
       "      <td>False</td>\n",
       "      <td>False</td>\n",
       "      <td>False</td>\n",
       "      <td>False</td>\n",
       "      <td>False</td>\n",
       "      <td>31-35</td>\n",
       "    </tr>\n",
       "    <tr>\n",
       "      <td>...</td>\n",
       "      <td>...</td>\n",
       "      <td>...</td>\n",
       "      <td>...</td>\n",
       "      <td>...</td>\n",
       "      <td>...</td>\n",
       "      <td>...</td>\n",
       "      <td>...</td>\n",
       "      <td>...</td>\n",
       "      <td>...</td>\n",
       "      <td>...</td>\n",
       "      <td>...</td>\n",
       "      <td>...</td>\n",
       "      <td>...</td>\n",
       "    </tr>\n",
       "    <tr>\n",
       "      <td>807</td>\n",
       "      <td>Resignation</td>\n",
       "      <td>2013.0</td>\n",
       "      <td>2004.0</td>\n",
       "      <td>2004.0</td>\n",
       "      <td>False</td>\n",
       "      <td>False</td>\n",
       "      <td>True</td>\n",
       "      <td>False</td>\n",
       "      <td>False</td>\n",
       "      <td>False</td>\n",
       "      <td>True</td>\n",
       "      <td>False</td>\n",
       "      <td>36-40</td>\n",
       "    </tr>\n",
       "    <tr>\n",
       "      <td>808</td>\n",
       "      <td>Resignation</td>\n",
       "      <td>2013.0</td>\n",
       "      <td>2010.0</td>\n",
       "      <td>2010.0</td>\n",
       "      <td>False</td>\n",
       "      <td>False</td>\n",
       "      <td>False</td>\n",
       "      <td>False</td>\n",
       "      <td>False</td>\n",
       "      <td>False</td>\n",
       "      <td>False</td>\n",
       "      <td>False</td>\n",
       "      <td>26-30</td>\n",
       "    </tr>\n",
       "    <tr>\n",
       "      <td>815</td>\n",
       "      <td>Resignation</td>\n",
       "      <td>2014.0</td>\n",
       "      <td>2012.0</td>\n",
       "      <td>2012.0</td>\n",
       "      <td>False</td>\n",
       "      <td>False</td>\n",
       "      <td>False</td>\n",
       "      <td>False</td>\n",
       "      <td>False</td>\n",
       "      <td>False</td>\n",
       "      <td>False</td>\n",
       "      <td>False</td>\n",
       "      <td>21-25</td>\n",
       "    </tr>\n",
       "    <tr>\n",
       "      <td>816</td>\n",
       "      <td>Resignation</td>\n",
       "      <td>2014.0</td>\n",
       "      <td>2012.0</td>\n",
       "      <td>2012.0</td>\n",
       "      <td>False</td>\n",
       "      <td>False</td>\n",
       "      <td>False</td>\n",
       "      <td>False</td>\n",
       "      <td>False</td>\n",
       "      <td>False</td>\n",
       "      <td>False</td>\n",
       "      <td>False</td>\n",
       "      <td>21-25</td>\n",
       "    </tr>\n",
       "    <tr>\n",
       "      <td>819</td>\n",
       "      <td>Resignation</td>\n",
       "      <td>2014.0</td>\n",
       "      <td>2009.0</td>\n",
       "      <td>2009.0</td>\n",
       "      <td>False</td>\n",
       "      <td>False</td>\n",
       "      <td>False</td>\n",
       "      <td>False</td>\n",
       "      <td>False</td>\n",
       "      <td>False</td>\n",
       "      <td>True</td>\n",
       "      <td>False</td>\n",
       "      <td>31-35</td>\n",
       "    </tr>\n",
       "  </tbody>\n",
       "</table>\n",
       "<p>271 rows × 13 columns</p>\n",
       "</div>"
      ],
      "text/plain": [
       "    separationtype  cease_date  dete_start_date  role_start_date  \\\n",
       "3      Resignation      2012.0           2005.0           2006.0   \n",
       "5      Resignation      2012.0           1994.0           1997.0   \n",
       "8      Resignation      2012.0           2009.0           2009.0   \n",
       "9      Resignation      2012.0           1997.0           2008.0   \n",
       "11     Resignation      2012.0           2009.0           2009.0   \n",
       "..             ...         ...              ...              ...   \n",
       "807    Resignation      2013.0           2004.0           2004.0   \n",
       "808    Resignation      2013.0           2010.0           2010.0   \n",
       "815    Resignation      2014.0           2012.0           2012.0   \n",
       "816    Resignation      2014.0           2012.0           2012.0   \n",
       "819    Resignation      2014.0           2009.0           2009.0   \n",
       "\n",
       "    interpersonal_conflicts job_dissatisfaction  \\\n",
       "3                     False               False   \n",
       "5                     False               False   \n",
       "8                     False               False   \n",
       "9                      True                True   \n",
       "11                    False               False   \n",
       "..                      ...                 ...   \n",
       "807                   False               False   \n",
       "808                   False               False   \n",
       "815                   False               False   \n",
       "816                   False               False   \n",
       "819                   False               False   \n",
       "\n",
       "    dissatisfaction_with_the_department physical_work_environment  \\\n",
       "3                                 False                     False   \n",
       "5                                 False                     False   \n",
       "8                                 False                     False   \n",
       "9                                  True                     False   \n",
       "11                                False                     False   \n",
       "..                                  ...                       ...   \n",
       "807                                True                     False   \n",
       "808                               False                     False   \n",
       "815                               False                     False   \n",
       "816                               False                     False   \n",
       "819                               False                     False   \n",
       "\n",
       "    lack_of_recognition lack_of_job_security work_life_balance workload    age  \n",
       "3                 False                False             False    False  36-40  \n",
       "5                 False                False             False    False  41-45  \n",
       "8                 False                False             False    False  31-35  \n",
       "9                 False                False             False    False  46-50  \n",
       "11                False                False             False    False  31-35  \n",
       "..                  ...                  ...               ...      ...    ...  \n",
       "807               False                False              True    False  36-40  \n",
       "808               False                False             False    False  26-30  \n",
       "815               False                False             False    False  21-25  \n",
       "816               False                False             False    False  21-25  \n",
       "819               False                False              True    False  31-35  \n",
       "\n",
       "[271 rows x 13 columns]"
      ]
     },
     "execution_count": 37,
     "metadata": {},
     "output_type": "execute_result"
    }
   ],
   "source": [
    "dete_survey"
   ]
  },
  {
   "cell_type": "code",
   "execution_count": 38,
   "metadata": {},
   "outputs": [],
   "source": [
    "dete_survey['lengthofserviceoverall'] = dete_survey['cease_date'] - dete_survey['dete_start_date']\n",
    "dete_survey['lengthofservicecurrent'] = dete_survey['cease_date'] - dete_survey['role_start_date']"
   ]
  },
  {
   "cell_type": "code",
   "execution_count": 39,
   "metadata": {},
   "outputs": [
    {
     "data": {
      "text/plain": [
       "array([nan, '3-4', '7-10', '1-2', 'Less than 1 year', '11-20', '5-6',\n",
       "       'More than 20 years'], dtype=object)"
      ]
     },
     "execution_count": 39,
     "metadata": {},
     "output_type": "execute_result"
    }
   ],
   "source": [
    "tafe_survey['lengthofserviceoverall'].unique()"
   ]
  },
  {
   "cell_type": "code",
   "execution_count": 40,
   "metadata": {},
   "outputs": [
    {
     "data": {
      "text/plain": [
       "Less than 1 year      73\n",
       "1-2                   64\n",
       "3-4                   63\n",
       "5-6                   33\n",
       "11-20                 26\n",
       "7-10                  21\n",
       "More than 20 years    10\n",
       "Name: lengthofserviceoverall, dtype: int64"
      ]
     },
     "execution_count": 40,
     "metadata": {},
     "output_type": "execute_result"
    }
   ],
   "source": [
    "tafe_survey['lengthofserviceoverall'].value_counts()"
   ]
  },
  {
   "cell_type": "code",
   "execution_count": 41,
   "metadata": {},
   "outputs": [
    {
     "data": {
      "text/plain": [
       "array([ 7., 18.,  3., 15., 14.,  5., 30., 32., 39., 17.,  9.,  6.,  1.,\n",
       "       35., 38., 36., 19.,  4., 26., 10.,  8.,  2.,  0., 23., 16., 12.,\n",
       "       21., 20., 24., 33., 13., 22., 28., 49., 11., 41., 27., 42., 25.,\n",
       "       29., 34., 31.])"
      ]
     },
     "execution_count": 41,
     "metadata": {},
     "output_type": "execute_result"
    }
   ],
   "source": [
    "dete_survey['lengthofserviceoverall'].unique()"
   ]
  },
  {
   "cell_type": "code",
   "execution_count": 42,
   "metadata": {},
   "outputs": [],
   "source": [
    "def categorize_len(val):\n",
    "    if val < 1:\n",
    "        return 'Less than 1 year'\n",
    "    elif 1 <= val <= 2:\n",
    "        return '1-2'\n",
    "    elif 3 <= val <= 4:\n",
    "        return '3-4'\n",
    "    elif 5 <= val <= 6:\n",
    "        return '5-6'\n",
    "    elif 7 <= val <= 10:\n",
    "        return '7-10'\n",
    "    elif 11 <= val <= 20:\n",
    "        return '11-20'\n",
    "    elif pd.isnull(val):\n",
    "        return np.nan\n",
    "    else:\n",
    "        return 'More than 20 years'\n",
    "    \n",
    "dete_survey['lengthofserviceoverall'] = dete_survey['lengthofserviceoverall'].apply(categorize_len)"
   ]
  },
  {
   "cell_type": "code",
   "execution_count": 43,
   "metadata": {},
   "outputs": [
    {
     "data": {
      "text/plain": [
       "11-20                 55\n",
       "More than 20 years    43\n",
       "7-10                  41\n",
       "5-6                   40\n",
       "1-2                   37\n",
       "3-4                   36\n",
       "Less than 1 year      19\n",
       "Name: lengthofserviceoverall, dtype: int64"
      ]
     },
     "execution_count": 43,
     "metadata": {},
     "output_type": "execute_result"
    }
   ],
   "source": [
    "dete_survey['lengthofserviceoverall'].value_counts()"
   ]
  },
  {
   "cell_type": "code",
   "execution_count": 44,
   "metadata": {},
   "outputs": [],
   "source": [
    "dete_survey['lengthofservicecurrent'] = dete_survey['lengthofservicecurrent'].apply(categorize_len)"
   ]
  },
  {
   "cell_type": "code",
   "execution_count": 45,
   "metadata": {},
   "outputs": [
    {
     "data": {
      "text/plain": [
       "1-2                   65\n",
       "3-4                   45\n",
       "5-6                   37\n",
       "11-20                 37\n",
       "Less than 1 year      34\n",
       "7-10                  33\n",
       "More than 20 years    20\n",
       "Name: lengthofservicecurrent, dtype: int64"
      ]
     },
     "execution_count": 45,
     "metadata": {},
     "output_type": "execute_result"
    }
   ],
   "source": [
    "dete_survey['lengthofservicecurrent'].value_counts()"
   ]
  },
  {
   "cell_type": "markdown",
   "metadata": {},
   "source": [
    "Now, the age. "
   ]
  },
  {
   "cell_type": "code",
   "execution_count": 46,
   "metadata": {},
   "outputs": [
    {
     "data": {
      "text/plain": [
       "array(['36-40', '41-45', '31-35', '46-50', '56-60', '51-55',\n",
       "       '61 or older', '21-25', '26-30', '20 or younger'], dtype=object)"
      ]
     },
     "execution_count": 46,
     "metadata": {},
     "output_type": "execute_result"
    }
   ],
   "source": [
    "dete_survey['age'].unique()"
   ]
  },
  {
   "cell_type": "code",
   "execution_count": 47,
   "metadata": {},
   "outputs": [],
   "source": [
    "tafe_survey = tafe_survey.rename(columns={'currentage':'age'})"
   ]
  },
  {
   "cell_type": "code",
   "execution_count": 48,
   "metadata": {},
   "outputs": [],
   "source": [
    "tafe_survey['age'] = tafe_survey['age'].str.replace('  ', '-')"
   ]
  },
  {
   "cell_type": "code",
   "execution_count": 49,
   "metadata": {},
   "outputs": [
    {
     "name": "stdout",
     "output_type": "stream",
     "text": [
      "['36-40' '41-45' '31-35' '46-50' '56-60' '51-55' '61 or older' '21-25'\n",
      " '26-30' '20 or younger']\n",
      "\n",
      "\n",
      "[nan '41-45' '56 or older' '20 or younger' '46-50' '36-40' '21-25' '31-35'\n",
      " '26-30' '51-55']\n"
     ]
    }
   ],
   "source": [
    "print(dete_survey['age'].unique())\n",
    "print('\\n')\n",
    "print(tafe_survey['age'].unique())\n"
   ]
  },
  {
   "cell_type": "code",
   "execution_count": 50,
   "metadata": {},
   "outputs": [],
   "source": [
    "def group_age(val):\n",
    "    if val == '56-60' or val == '61 or older':\n",
    "        return '56 or older'\n",
    "    elif pd.isnull(val):\n",
    "        return np.nan\n",
    "    else:\n",
    "        return val\n",
    "\n",
    "dete_survey['age'] = dete_survey['age'].apply(group_age)"
   ]
  },
  {
   "cell_type": "code",
   "execution_count": 51,
   "metadata": {},
   "outputs": [
    {
     "name": "stdout",
     "output_type": "stream",
     "text": [
      "['36-40' '41-45' '31-35' '46-50' '56 or older' '51-55' '21-25' '26-30'\n",
      " '20 or younger']\n",
      "\n",
      "\n",
      "[nan '41-45' '56 or older' '20 or younger' '46-50' '36-40' '21-25' '31-35'\n",
      " '26-30' '51-55']\n"
     ]
    }
   ],
   "source": [
    "print(dete_survey['age'].unique())\n",
    "print('\\n')\n",
    "print(tafe_survey['age'].unique())"
   ]
  },
  {
   "cell_type": "markdown",
   "metadata": {},
   "source": [
    "### Removing NaNs from the `tafe_survey`"
   ]
  },
  {
   "cell_type": "code",
   "execution_count": 52,
   "metadata": {},
   "outputs": [
    {
     "data": {
      "image/png": "[encoded data removed]",
      "text/plain": [
       "<Figure size 720x648 with 1 Axes>"
      ]
     },
     "metadata": {
      "needs_background": "light"
     },
     "output_type": "display_data"
    }
   ],
   "source": [
    "plot_null_matrix(tafe_survey)"
   ]
  },
  {
   "cell_type": "markdown",
   "metadata": {},
   "source": [
    "There are few things to notice here: we can't really work with data that doesn't contain the `age` variable, but as per the estimative below there's about 15% of rows that doesn't contain the `age` information.\n",
    "\n",
    "Now, the only thing we could do here is to estimate the age based on the `lengthofserviceoverall`, but we can't really do this, because every row with a NaN in `age` is also a NaN in `lengthofserviceoverall`, as well as in `lengthofservicecurrent` (*vide infra*).\n",
    "\n",
    "In this case we have no recourse but to drop these rows."
   ]
  },
  {
   "cell_type": "code",
   "execution_count": 53,
   "metadata": {},
   "outputs": [
    {
     "name": "stdout",
     "output_type": "stream",
     "text": [
      "0.14705882352941177\n"
     ]
    }
   ],
   "source": [
    "print(tafe_survey['age'].isnull().sum()/len(tafe_survey['age']))"
   ]
  },
  {
   "cell_type": "code",
   "execution_count": 54,
   "metadata": {},
   "outputs": [
    {
     "name": "stdout",
     "output_type": "stream",
     "text": [
      "[ True]\n",
      "----------\n",
      "[ True]\n"
     ]
    }
   ],
   "source": [
    "print((tafe_survey['age'].isnull() == tafe_survey['lengthofserviceoverall'].isnull()).unique())\n",
    "print('-'*10)\n",
    "print((tafe_survey['age'].isnull() == tafe_survey['lengthofservicecurrent'].isnull()).unique())"
   ]
  },
  {
   "cell_type": "code",
   "execution_count": 55,
   "metadata": {},
   "outputs": [
    {
     "data": {
      "text/plain": [
       "cessation_year                         2\n",
       "reason_for_ceasing_employment          0\n",
       "dissatisfaction_with_the_department    0\n",
       "job_dissatisfaction                    0\n",
       "interpersonal_conflicts                0\n",
       "lack_of_recognition                    8\n",
       "lack_of_job_security                   7\n",
       "workload                               9\n",
       "work_life_balance                      6\n",
       "physical_work_environment              6\n",
       "gender                                 0\n",
       "age                                    0\n",
       "lengthofserviceoverall                 0\n",
       "lengthofservicecurrent                 0\n",
       "dtype: int64"
      ]
     },
     "execution_count": 55,
     "metadata": {},
     "output_type": "execute_result"
    }
   ],
   "source": [
    "tafe_survey.dropna(subset = ['age'], inplace=True)\n",
    "tafe_survey.isnull().sum()"
   ]
  },
  {
   "cell_type": "code",
   "execution_count": 56,
   "metadata": {},
   "outputs": [
    {
     "data": {
      "image/png": "[encoded data removed]",
      "text/plain": [
       "<Figure size 720x648 with 1 Axes>"
      ]
     },
     "metadata": {
      "needs_background": "light"
     },
     "output_type": "display_data"
    }
   ],
   "source": [
    "plot_null_matrix(tafe_survey)"
   ]
  },
  {
   "cell_type": "markdown",
   "metadata": {},
   "source": [
    "Another Ansatz that is reasonable to adopt is the following: if there's a NaN in the questions of `lack_of_recognition` and so on we should substitute it with a `False`. Because if it was `True`, then the person doing the quiz would probably fill it out; while in the case of `False` the person might just ignore it and leave it blank."
   ]
  },
  {
   "cell_type": "code",
   "execution_count": 57,
   "metadata": {},
   "outputs": [
    {
     "data": {
      "text/plain": [
       "cessation_year                         2\n",
       "reason_for_ceasing_employment          0\n",
       "dissatisfaction_with_the_department    0\n",
       "job_dissatisfaction                    0\n",
       "interpersonal_conflicts                0\n",
       "lack_of_recognition                    0\n",
       "lack_of_job_security                   0\n",
       "workload                               0\n",
       "work_life_balance                      0\n",
       "physical_work_environment              0\n",
       "gender                                 0\n",
       "age                                    0\n",
       "lengthofserviceoverall                 0\n",
       "lengthofservicecurrent                 0\n",
       "dtype: int64"
      ]
     },
     "execution_count": 57,
     "metadata": {},
     "output_type": "execute_result"
    }
   ],
   "source": [
    "values = {'lack_of_recognition':False, 'lack_of_job_security':False, 'workload':False, 'work_life_balance':False, 'physical_work_environment':False}\n",
    "tafe_survey.fillna(value=values, inplace=True)\n",
    "\n",
    "tafe_survey.isnull().sum()"
   ]
  },
  {
   "cell_type": "markdown",
   "metadata": {},
   "source": [
    "## Combining the two dataframes"
   ]
  },
  {
   "cell_type": "code",
   "execution_count": 58,
   "metadata": {
    "scrolled": true
   },
   "outputs": [
    {
     "data": {
      "text/html": [
       "<div>\n",
       "<style scoped>\n",
       "    .dataframe tbody tr th:only-of-type {\n",
       "        vertical-align: middle;\n",
       "    }\n",
       "\n",
       "    .dataframe tbody tr th {\n",
       "        vertical-align: top;\n",
       "    }\n",
       "\n",
       "    .dataframe thead th {\n",
       "        text-align: right;\n",
       "    }\n",
       "</style>\n",
       "<table border=\"1\" class=\"dataframe\">\n",
       "  <thead>\n",
       "    <tr style=\"text-align: right;\">\n",
       "      <th></th>\n",
       "      <th>separationtype</th>\n",
       "      <th>cease_date</th>\n",
       "      <th>dete_start_date</th>\n",
       "      <th>role_start_date</th>\n",
       "      <th>interpersonal_conflicts</th>\n",
       "      <th>job_dissatisfaction</th>\n",
       "      <th>dissatisfaction_with_the_department</th>\n",
       "      <th>physical_work_environment</th>\n",
       "      <th>lack_of_recognition</th>\n",
       "      <th>lack_of_job_security</th>\n",
       "      <th>work_life_balance</th>\n",
       "      <th>workload</th>\n",
       "      <th>age</th>\n",
       "      <th>lengthofserviceoverall</th>\n",
       "      <th>lengthofservicecurrent</th>\n",
       "    </tr>\n",
       "  </thead>\n",
       "  <tbody>\n",
       "    <tr>\n",
       "      <td>3</td>\n",
       "      <td>Resignation</td>\n",
       "      <td>2012.0</td>\n",
       "      <td>2005.0</td>\n",
       "      <td>2006.0</td>\n",
       "      <td>False</td>\n",
       "      <td>False</td>\n",
       "      <td>False</td>\n",
       "      <td>False</td>\n",
       "      <td>False</td>\n",
       "      <td>False</td>\n",
       "      <td>False</td>\n",
       "      <td>False</td>\n",
       "      <td>36-40</td>\n",
       "      <td>7-10</td>\n",
       "      <td>5-6</td>\n",
       "    </tr>\n",
       "    <tr>\n",
       "      <td>5</td>\n",
       "      <td>Resignation</td>\n",
       "      <td>2012.0</td>\n",
       "      <td>1994.0</td>\n",
       "      <td>1997.0</td>\n",
       "      <td>False</td>\n",
       "      <td>False</td>\n",
       "      <td>False</td>\n",
       "      <td>False</td>\n",
       "      <td>False</td>\n",
       "      <td>False</td>\n",
       "      <td>False</td>\n",
       "      <td>False</td>\n",
       "      <td>41-45</td>\n",
       "      <td>11-20</td>\n",
       "      <td>11-20</td>\n",
       "    </tr>\n",
       "    <tr>\n",
       "      <td>8</td>\n",
       "      <td>Resignation</td>\n",
       "      <td>2012.0</td>\n",
       "      <td>2009.0</td>\n",
       "      <td>2009.0</td>\n",
       "      <td>False</td>\n",
       "      <td>False</td>\n",
       "      <td>False</td>\n",
       "      <td>False</td>\n",
       "      <td>False</td>\n",
       "      <td>False</td>\n",
       "      <td>False</td>\n",
       "      <td>False</td>\n",
       "      <td>31-35</td>\n",
       "      <td>3-4</td>\n",
       "      <td>3-4</td>\n",
       "    </tr>\n",
       "    <tr>\n",
       "      <td>9</td>\n",
       "      <td>Resignation</td>\n",
       "      <td>2012.0</td>\n",
       "      <td>1997.0</td>\n",
       "      <td>2008.0</td>\n",
       "      <td>True</td>\n",
       "      <td>True</td>\n",
       "      <td>True</td>\n",
       "      <td>False</td>\n",
       "      <td>False</td>\n",
       "      <td>False</td>\n",
       "      <td>False</td>\n",
       "      <td>False</td>\n",
       "      <td>46-50</td>\n",
       "      <td>11-20</td>\n",
       "      <td>3-4</td>\n",
       "    </tr>\n",
       "    <tr>\n",
       "      <td>11</td>\n",
       "      <td>Resignation</td>\n",
       "      <td>2012.0</td>\n",
       "      <td>2009.0</td>\n",
       "      <td>2009.0</td>\n",
       "      <td>False</td>\n",
       "      <td>False</td>\n",
       "      <td>False</td>\n",
       "      <td>False</td>\n",
       "      <td>False</td>\n",
       "      <td>False</td>\n",
       "      <td>False</td>\n",
       "      <td>False</td>\n",
       "      <td>31-35</td>\n",
       "      <td>3-4</td>\n",
       "      <td>3-4</td>\n",
       "    </tr>\n",
       "    <tr>\n",
       "      <td>...</td>\n",
       "      <td>...</td>\n",
       "      <td>...</td>\n",
       "      <td>...</td>\n",
       "      <td>...</td>\n",
       "      <td>...</td>\n",
       "      <td>...</td>\n",
       "      <td>...</td>\n",
       "      <td>...</td>\n",
       "      <td>...</td>\n",
       "      <td>...</td>\n",
       "      <td>...</td>\n",
       "      <td>...</td>\n",
       "      <td>...</td>\n",
       "      <td>...</td>\n",
       "      <td>...</td>\n",
       "    </tr>\n",
       "    <tr>\n",
       "      <td>807</td>\n",
       "      <td>Resignation</td>\n",
       "      <td>2013.0</td>\n",
       "      <td>2004.0</td>\n",
       "      <td>2004.0</td>\n",
       "      <td>False</td>\n",
       "      <td>False</td>\n",
       "      <td>True</td>\n",
       "      <td>False</td>\n",
       "      <td>False</td>\n",
       "      <td>False</td>\n",
       "      <td>True</td>\n",
       "      <td>False</td>\n",
       "      <td>36-40</td>\n",
       "      <td>7-10</td>\n",
       "      <td>7-10</td>\n",
       "    </tr>\n",
       "    <tr>\n",
       "      <td>808</td>\n",
       "      <td>Resignation</td>\n",
       "      <td>2013.0</td>\n",
       "      <td>2010.0</td>\n",
       "      <td>2010.0</td>\n",
       "      <td>False</td>\n",
       "      <td>False</td>\n",
       "      <td>False</td>\n",
       "      <td>False</td>\n",
       "      <td>False</td>\n",
       "      <td>False</td>\n",
       "      <td>False</td>\n",
       "      <td>False</td>\n",
       "      <td>26-30</td>\n",
       "      <td>3-4</td>\n",
       "      <td>3-4</td>\n",
       "    </tr>\n",
       "    <tr>\n",
       "      <td>815</td>\n",
       "      <td>Resignation</td>\n",
       "      <td>2014.0</td>\n",
       "      <td>2012.0</td>\n",
       "      <td>2012.0</td>\n",
       "      <td>False</td>\n",
       "      <td>False</td>\n",
       "      <td>False</td>\n",
       "      <td>False</td>\n",
       "      <td>False</td>\n",
       "      <td>False</td>\n",
       "      <td>False</td>\n",
       "      <td>False</td>\n",
       "      <td>21-25</td>\n",
       "      <td>1-2</td>\n",
       "      <td>1-2</td>\n",
       "    </tr>\n",
       "    <tr>\n",
       "      <td>816</td>\n",
       "      <td>Resignation</td>\n",
       "      <td>2014.0</td>\n",
       "      <td>2012.0</td>\n",
       "      <td>2012.0</td>\n",
       "      <td>False</td>\n",
       "      <td>False</td>\n",
       "      <td>False</td>\n",
       "      <td>False</td>\n",
       "      <td>False</td>\n",
       "      <td>False</td>\n",
       "      <td>False</td>\n",
       "      <td>False</td>\n",
       "      <td>21-25</td>\n",
       "      <td>1-2</td>\n",
       "      <td>1-2</td>\n",
       "    </tr>\n",
       "    <tr>\n",
       "      <td>819</td>\n",
       "      <td>Resignation</td>\n",
       "      <td>2014.0</td>\n",
       "      <td>2009.0</td>\n",
       "      <td>2009.0</td>\n",
       "      <td>False</td>\n",
       "      <td>False</td>\n",
       "      <td>False</td>\n",
       "      <td>False</td>\n",
       "      <td>False</td>\n",
       "      <td>False</td>\n",
       "      <td>True</td>\n",
       "      <td>False</td>\n",
       "      <td>31-35</td>\n",
       "      <td>5-6</td>\n",
       "      <td>5-6</td>\n",
       "    </tr>\n",
       "  </tbody>\n",
       "</table>\n",
       "<p>271 rows × 15 columns</p>\n",
       "</div>"
      ],
      "text/plain": [
       "    separationtype  cease_date  dete_start_date  role_start_date  \\\n",
       "3      Resignation      2012.0           2005.0           2006.0   \n",
       "5      Resignation      2012.0           1994.0           1997.0   \n",
       "8      Resignation      2012.0           2009.0           2009.0   \n",
       "9      Resignation      2012.0           1997.0           2008.0   \n",
       "11     Resignation      2012.0           2009.0           2009.0   \n",
       "..             ...         ...              ...              ...   \n",
       "807    Resignation      2013.0           2004.0           2004.0   \n",
       "808    Resignation      2013.0           2010.0           2010.0   \n",
       "815    Resignation      2014.0           2012.0           2012.0   \n",
       "816    Resignation      2014.0           2012.0           2012.0   \n",
       "819    Resignation      2014.0           2009.0           2009.0   \n",
       "\n",
       "    interpersonal_conflicts job_dissatisfaction  \\\n",
       "3                     False               False   \n",
       "5                     False               False   \n",
       "8                     False               False   \n",
       "9                      True                True   \n",
       "11                    False               False   \n",
       "..                      ...                 ...   \n",
       "807                   False               False   \n",
       "808                   False               False   \n",
       "815                   False               False   \n",
       "816                   False               False   \n",
       "819                   False               False   \n",
       "\n",
       "    dissatisfaction_with_the_department physical_work_environment  \\\n",
       "3                                 False                     False   \n",
       "5                                 False                     False   \n",
       "8                                 False                     False   \n",
       "9                                  True                     False   \n",
       "11                                False                     False   \n",
       "..                                  ...                       ...   \n",
       "807                                True                     False   \n",
       "808                               False                     False   \n",
       "815                               False                     False   \n",
       "816                               False                     False   \n",
       "819                               False                     False   \n",
       "\n",
       "    lack_of_recognition lack_of_job_security work_life_balance workload  \\\n",
       "3                 False                False             False    False   \n",
       "5                 False                False             False    False   \n",
       "8                 False                False             False    False   \n",
       "9                 False                False             False    False   \n",
       "11                False                False             False    False   \n",
       "..                  ...                  ...               ...      ...   \n",
       "807               False                False              True    False   \n",
       "808               False                False             False    False   \n",
       "815               False                False             False    False   \n",
       "816               False                False             False    False   \n",
       "819               False                False              True    False   \n",
       "\n",
       "       age lengthofserviceoverall lengthofservicecurrent  \n",
       "3    36-40                   7-10                    5-6  \n",
       "5    41-45                  11-20                  11-20  \n",
       "8    31-35                    3-4                    3-4  \n",
       "9    46-50                  11-20                    3-4  \n",
       "11   31-35                    3-4                    3-4  \n",
       "..     ...                    ...                    ...  \n",
       "807  36-40                   7-10                   7-10  \n",
       "808  26-30                    3-4                    3-4  \n",
       "815  21-25                    1-2                    1-2  \n",
       "816  21-25                    1-2                    1-2  \n",
       "819  31-35                    5-6                    5-6  \n",
       "\n",
       "[271 rows x 15 columns]"
      ]
     },
     "execution_count": 58,
     "metadata": {},
     "output_type": "execute_result"
    }
   ],
   "source": [
    "dete_survey"
   ]
  },
  {
   "cell_type": "code",
   "execution_count": 59,
   "metadata": {},
   "outputs": [],
   "source": [
    "tafe_survey = tafe_survey.drop(columns=['cessation_year', 'reason_for_ceasing_employment', 'gender'])\n",
    "dete_survey = dete_survey.drop(columns=['separationtype', 'cease_date', 'dete_start_date', 'role_start_date'])"
   ]
  },
  {
   "cell_type": "code",
   "execution_count": 60,
   "metadata": {},
   "outputs": [
    {
     "name": "stderr",
     "output_type": "stream",
     "text": [
      "/Library/Frameworks/Python.framework/Versions/3.7/lib/python3.7/site-packages/ipykernel_launcher.py:1: FutureWarning: Sorting because non-concatenation axis is not aligned. A future version\n",
      "of pandas will change to not sort by default.\n",
      "\n",
      "To accept the future behavior, pass 'sort=False'.\n",
      "\n",
      "To retain the current behavior and silence the warning, pass 'sort=True'.\n",
      "\n",
      "  \"\"\"Entry point for launching an IPython kernel.\n"
     ]
    }
   ],
   "source": [
    "combined = pd.concat([dete_survey, tafe_survey], ignore_index=True)"
   ]
  },
  {
   "cell_type": "markdown",
   "metadata": {},
   "source": [
    "We can now go on and create a new variable: `dissatisfaction`, which will indicate if the person resigned because he or she was not satisfied."
   ]
  },
  {
   "cell_type": "code",
   "execution_count": 61,
   "metadata": {},
   "outputs": [
    {
     "data": {
      "text/plain": [
       "Index(['age', 'dissatisfaction_with_the_department', 'interpersonal_conflicts',\n",
       "       'job_dissatisfaction', 'lack_of_job_security', 'lack_of_recognition',\n",
       "       'lengthofservicecurrent', 'lengthofserviceoverall',\n",
       "       'physical_work_environment', 'work_life_balance', 'workload'],\n",
       "      dtype='object')"
      ]
     },
     "execution_count": 61,
     "metadata": {},
     "output_type": "execute_result"
    }
   ],
   "source": [
    "combined.columns"
   ]
  },
  {
   "cell_type": "code",
   "execution_count": 62,
   "metadata": {},
   "outputs": [],
   "source": [
    "dissatisfaction_indicators = ['dissatisfaction_with_the_department', 'interpersonal_conflicts',\n",
    "       'job_dissatisfaction', 'lack_of_job_security', 'lack_of_recognition',\n",
    "       'physical_work_environment', 'work_life_balance', 'workload']\n",
    "combined['dissatisfaction'] = combined[dissatisfaction_indicators].any(1)"
   ]
  },
  {
   "cell_type": "markdown",
   "metadata": {},
   "source": [
    "### Age and dissatisfaction"
   ]
  },
  {
   "cell_type": "code",
   "execution_count": 63,
   "metadata": {},
   "outputs": [
    {
     "data": {
      "text/plain": [
       "['36-40',\n",
       " '41-45',\n",
       " '31-35',\n",
       " '46-50',\n",
       " '56 or older',\n",
       " '51-55',\n",
       " '21-25',\n",
       " '26-30',\n",
       " '20 or younger']"
      ]
     },
     "execution_count": 63,
     "metadata": {},
     "output_type": "execute_result"
    }
   ],
   "source": [
    "list(combined['age'].unique())"
   ]
  },
  {
   "cell_type": "code",
   "execution_count": 64,
   "metadata": {},
   "outputs": [
    {
     "data": {
      "image/png": "[encoded data removed]",
      "text/plain": [
       "<Figure size 432x288 with 1 Axes>"
      ]
     },
     "metadata": {
      "needs_background": "light"
     },
     "output_type": "display_data"
    }
   ],
   "source": [
    "order = ['20 or younger', '21-25', '26-30', '31-35', '36-40', '41-45', '46-50', '51-55', '56 or older']\n",
    "ax = sns.barplot(x = \"age\", y = 'dissatisfaction', data = combined, order=order, palette=\"Blues_d\", ci=None)\n",
    "plt.xticks(rotation=30)\n",
    "corners = ['right','left','top']\n",
    "for c in corners:\n",
    "    ax.spines[c].set_visible(False)\n",
    "ax.set(yticks=[])\n",
    "plt.show()"
   ]
  },
  {
   "cell_type": "markdown",
   "metadata": {},
   "source": [
    "There is indeed a very weak tendency here: the more older the person, the more he or she will resign due to insatisfaction.\n",
    "\n",
    "This is intuitively true: the younger one is the more reasons one has to leave a post -- another job offer, for instance. But the older one gets, more one seeks stability, and so the reason for resignation will be more due to insatisfaction than others. \n",
    "On the other hand, the `20 or younger` people might be in jobs that are not very glamorous -- thus their dissatisfaction."
   ]
  },
  {
   "cell_type": "markdown",
   "metadata": {},
   "source": [
    "### Seniority and dissatisfaction"
   ]
  },
  {
   "cell_type": "code",
   "execution_count": 65,
   "metadata": {},
   "outputs": [
    {
     "data": {
      "text/plain": [
       "['7-10',\n",
       " '11-20',\n",
       " '3-4',\n",
       " '5-6',\n",
       " 'More than 20 years',\n",
       " '1-2',\n",
       " 'Less than 1 year']"
      ]
     },
     "execution_count": 65,
     "metadata": {},
     "output_type": "execute_result"
    }
   ],
   "source": [
    "list(combined['lengthofserviceoverall'].unique())"
   ]
  },
  {
   "cell_type": "code",
   "execution_count": 66,
   "metadata": {},
   "outputs": [
    {
     "data": {
      "image/png": "[encoded data removed]",
      "text/plain": [
       "<Figure size 432x288 with 1 Axes>"
      ]
     },
     "metadata": {
      "needs_background": "light"
     },
     "output_type": "display_data"
    }
   ],
   "source": [
    "order = ['Less than 1 year', '1-2', '3-4', '5-6', '7-10', '11-20', 'More than 20 years']\n",
    "ax = sns.barplot(x = \"lengthofserviceoverall\", y = 'dissatisfaction', data = combined, order = order, palette=\"Blues_d\", ci=None)\n",
    "plt.xticks(rotation=30)\n",
    "corners = ['right','left','top']\n",
    "for c in corners:\n",
    "    ax.spines[c].set_visible(False)\n",
    "ax.set(yticks=[])\n",
    "plt.show()"
   ]
  },
  {
   "cell_type": "markdown",
   "metadata": {},
   "source": [
    "We see the same weak trend that we saw in the `age` vs `dissatisfaction` graph: more senior people (and this, I assume, correlates with old age) tend to resign with more dissatisfaction. People with less than 1 year probably just didn't fit very well in the job, thus their dissatisfaction"
   ]
  },
  {
   "cell_type": "markdown",
   "metadata": {},
   "source": [
    "## Conclusion\n",
    "\n",
    "Thus we conclude this cleaning job. We created a neat dataframe to investigate dissatisfaction. We could easily include other data, such as gender and so on.\n",
    "\n",
    "All this proccess could easily be adapted to any other need HR might have."
   ]
  },
  {
   "cell_type": "code",
   "execution_count": null,
   "metadata": {},
   "outputs": [],
   "source": []
  }
 ],
 "metadata": {
  "kernelspec": {
   "display_name": "Python 3",
   "language": "python",
   "name": "python3"
  },
  "language_info": {
   "codemirror_mode": {
    "name": "ipython",
    "version": 3
   },
   "file_extension": ".py",
   "mimetype": "text/x-python",
   "name": "python",
   "nbconvert_exporter": "python",
   "pygments_lexer": "ipython3",
   "version": "3.7.4"
  }
 },
 "nbformat": 4,
 "nbformat_minor": 2
}
